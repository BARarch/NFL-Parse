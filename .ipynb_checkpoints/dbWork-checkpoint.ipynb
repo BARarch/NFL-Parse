{
 "cells": [
  {
   "cell_type": "code",
   "execution_count": 1,
   "metadata": {
    "collapsed": true
   },
   "outputs": [],
   "source": [
    "import psycopg2\n",
    "import config as config"
   ]
  },
  {
   "cell_type": "code",
   "execution_count": 2,
   "metadata": {
    "collapsed": true
   },
   "outputs": [],
   "source": [
    "conn = config.connect()"
   ]
  },
  {
   "cell_type": "code",
   "execution_count": 3,
   "metadata": {},
   "outputs": [
    {
     "data": {
      "text/plain": [
       "<connection object at 0x00000250E660E468; dsn: 'dbname='nflparse' user='postgres' host='localhost' password=xxxxxx', closed: 0>"
      ]
     },
     "execution_count": 3,
     "metadata": {},
     "output_type": "execute_result"
    }
   ],
   "source": [
    "conn"
   ]
  },
  {
   "cell_type": "code",
   "execution_count": 30,
   "metadata": {},
   "outputs": [
    {
     "name": "stdout",
     "output_type": "stream",
     "text": [
      "[('nfl_team_articles',)]\n"
     ]
    }
   ],
   "source": [
    "\n",
    "cursor = conn.cursor()\n",
    "cursor.execute(\"select relname from pg_class where relkind='r' and relname !~ '^(pg_|sql_)';\")\n",
    "print (cursor.fetchall())"
   ]
  },
  {
   "cell_type": "code",
   "execution_count": 7,
   "metadata": {},
   "outputs": [
    {
     "name": "stdout",
     "output_type": "stream",
     "text": [
      "Done\n",
      "team: Steelers 0\n",
      "team: Steelers 1\n",
      "team: Steelers 2\n",
      "team: Steelers 3\n",
      "team: Steelers 4\n",
      "team: Ravens 5\n",
      "team: Ravens 6\n",
      "team: Ravens 7\n",
      "team: Ravens 8\n",
      "team: Ravens 9\n",
      "team: Ravens 10\n",
      "team: Ravens 11\n",
      "team: Ravens 12\n",
      "team: Ravens 13\n",
      "team: Ravens 14\n",
      "team: Ravens 15\n",
      "team: Ravens 16\n",
      "team: Ravens 17\n",
      "team: Bengals 18\n",
      "team: Bengals 19\n",
      "team: Bengals 20\n",
      "team: Bengals 21\n",
      "team: Bengals 22\n",
      "team: Browns 23\n",
      "team: Browns 24\n",
      "team: Browns 25\n",
      "team: Browns 26\n",
      "team: Packers 28\n",
      "team: Packers 29\n",
      "team: Packers 30\n",
      "team: Packers 31\n",
      "team: Packers 32\n",
      "team: Packers 33\n",
      "team: Vikings 34\n",
      "team: Vikings 35\n",
      "team: Vikings 36\n",
      "team: Vikings 37\n",
      "team: Lions 38\n",
      "team: Lions 39\n",
      "team: Lions 40\n",
      "team: Lions 41\n",
      "team: Lions 42\n",
      "team: Texans 43\n",
      "team: Texans 44\n",
      "team: Titans 45\n",
      "team: Titans 46\n",
      "team: Titans 47\n",
      "team: Titans 48\n",
      "team: Titans 49\n",
      "team: Titans 50\n",
      "team: Titans 51\n",
      "team: Titans 52\n",
      "team: Jaguars 53\n",
      "team: Jaguars 54\n",
      "team: Jaguars 55\n",
      "team: Colts 56\n",
      "team: Colts 57\n",
      "team: Colts 58\n",
      "team: Saints 59\n",
      "team: Saints 60\n",
      "team: Saints 61\n",
      "team: Saints 62\n",
      "team: Falcons 63\n",
      "team: Falcons 64\n",
      "team: Buccaneers 65\n",
      "team: Buccaneers 66\n",
      "team: Buccaneers 67\n",
      "team: Buccaneers 68\n",
      "team: Panthers 69\n",
      "team: Panthers 70\n",
      "team: Panthers 71\n",
      "team: Panthers 72\n",
      "team: Jets 73\n",
      "team: Jets 74\n",
      "team: Jets 75\n",
      "team: Patriots 76\n",
      "team: Patriots 77\n",
      "team: Patriots 78\n",
      "team: Dolphins 79\n",
      "team: Dolphins 80\n",
      "team: Dolphins 81\n",
      "team: Dolphins 82\n",
      "team: Dolphins 83\n",
      "team: Dolphins 84\n",
      "team: Dolphins 85\n",
      "team: Bills 86\n",
      "team: Bills 87\n",
      "team: Bills 88\n",
      "team: Redskins 89\n",
      "team: Redskins 90\n",
      "team: Redskins 91\n",
      "team: Redskins 92\n",
      "team: Redskins 93\n",
      "team: Eagles 94\n",
      "team: Eagles 95\n",
      "team: Eagles 96\n",
      "team: Eagles 97\n",
      "team: Eagles 98\n",
      "team: Eagles 99\n",
      "team: Cowboys 100\n",
      "team: Cowboys 101\n",
      "team: Cowboys 102\n",
      "team: Cowboys 103\n",
      "team: Giants 104\n",
      "team: Giants 105\n",
      "team: Raiders 106\n",
      "team: Raiders 107\n",
      "team: Raiders 108\n",
      "team: Raiders 109\n",
      "team: Broncos 111\n",
      "team: Broncos 112\n",
      "team: Broncos 113\n",
      "team: Broncos 114\n",
      "team: Chiefs 115\n",
      "team: Chiefs 116\n",
      "team: 49ers 117\n",
      "team: 49ers 118\n",
      "team: 49ers 119\n",
      "team: 49ers 120\n",
      "team: 49ers 121\n",
      "team: 49ers 122\n",
      "team: Rams 123\n",
      "team: Rams 124\n",
      "team: Seahawks 125\n",
      "team: Seahawks 126\n",
      "team: Seahawks 127\n",
      "team: Seahawks 128\n",
      "team: Seahawks 129\n",
      "team: Cardinals 130\n",
      "team: Cardinals 131\n",
      "team: Cardinals 132\n",
      "team: Cardinals 133\n",
      "team: Cardinals 134\n",
      "team: Cardinals 135\n",
      "team: Cardinals 136\n",
      "team: Cardinals 137\n",
      "team: Cardinals 138\n",
      "team: Cardinals 139\n",
      "team: Cardinals 140\n"
     ]
    }
   ],
   "source": [
    "%run pullFeeds.py"
   ]
  },
  {
   "cell_type": "code",
   "execution_count": 85,
   "metadata": {
    "collapsed": true
   },
   "outputs": [],
   "source": [
    "elm = dataSorts[1]"
   ]
  },
  {
   "cell_type": "code",
   "execution_count": 86,
   "metadata": {},
   "outputs": [
    {
     "data": {
      "text/plain": [
       "{'creator': None,\n",
       " 'discription': 'Tom McMahon, Special Teams Coordinator, talked with Bob Lamey about where the team got better last week from the previous week!',\n",
       " 'link': 'http://www.colts.com/videos/audio/8-23---Tom-McMahon-Audio/eded2342-2046-4c6b-9f03-27734c44fc76',\n",
       " 'pubDate': 'Wed, 23 Aug 2017 22:40:00 GMT',\n",
       " 'team': 'Colts',\n",
       " 'title': '8-23 - Tom McMahon (Audio)',\n",
       " 'type': 'Audio'}"
      ]
     },
     "execution_count": 86,
     "metadata": {},
     "output_type": "execute_result"
    }
   ],
   "source": [
    "elm"
   ]
  },
  {
   "cell_type": "code",
   "execution_count": 87,
   "metadata": {},
   "outputs": [
    {
     "ename": "InterfaceError",
     "evalue": "connection already closed",
     "output_type": "error",
     "traceback": [
      "\u001b[1;31m---------------------------------------------------------------------------\u001b[0m",
      "\u001b[1;31mInterfaceError\u001b[0m                            Traceback (most recent call last)",
      "\u001b[1;32m<ipython-input-87-3ef0389015d3>\u001b[0m in \u001b[0;36m<module>\u001b[1;34m()\u001b[0m\n\u001b[1;32m----> 1\u001b[1;33m \u001b[0mcursor\u001b[0m \u001b[1;33m=\u001b[0m \u001b[0mconn\u001b[0m\u001b[1;33m.\u001b[0m\u001b[0mcursor\u001b[0m\u001b[1;33m(\u001b[0m\u001b[1;33m)\u001b[0m\u001b[1;33m\u001b[0m\u001b[0m\n\u001b[0m",
      "\u001b[1;31mInterfaceError\u001b[0m: connection already closed"
     ]
    }
   ],
   "source": [
    "cursor = conn.cursor()"
   ]
  },
  {
   "cell_type": "code",
   "execution_count": 25,
   "metadata": {},
   "outputs": [
    {
     "data": {
      "text/plain": [
       "<cursor object at 0x0000015C63DCFC88; closed: 0>"
      ]
     },
     "execution_count": 25,
     "metadata": {},
     "output_type": "execute_result"
    }
   ],
   "source": [
    "cursor"
   ]
  },
  {
   "cell_type": "code",
   "execution_count": null,
   "metadata": {
    "collapsed": true
   },
   "outputs": [],
   "source": []
  },
  {
   "cell_type": "code",
   "execution_count": 103,
   "metadata": {
    "collapsed": true
   },
   "outputs": [],
   "source": [
    "cursor.execute(\n",
    "            \"INSERT INTO nfl_team_articles (Date, Team, Title, Type, Link, Discription, Creator, id) VALUES (%s, %s, %s, %s, %s, %s, %s, %s);\",\n",
    "            (elm['pubDate'], elm['team'], elm['title'], elm['type'], elm['link'], elm['discription'], elm['creator'], 1))"
   ]
  },
  {
   "cell_type": "code",
   "execution_count": 104,
   "metadata": {},
   "outputs": [
    {
     "data": {
      "text/plain": [
       "<cursor object at 0x0000015C63DCFAC8; closed: 0>"
      ]
     },
     "execution_count": 104,
     "metadata": {},
     "output_type": "execute_result"
    }
   ],
   "source": [
    "cursor"
   ]
  },
  {
   "cell_type": "code",
   "execution_count": 105,
   "metadata": {
    "collapsed": true
   },
   "outputs": [],
   "source": [
    "conn.commit()"
   ]
  },
  {
   "cell_type": "code",
   "execution_count": 106,
   "metadata": {
    "collapsed": true
   },
   "outputs": [],
   "source": [
    "cursor.close()"
   ]
  },
  {
   "cell_type": "code",
   "execution_count": 107,
   "metadata": {
    "collapsed": true
   },
   "outputs": [],
   "source": [
    "conn.close()"
   ]
  },
  {
   "cell_type": "code",
   "execution_count": 108,
   "metadata": {},
   "outputs": [
    {
     "data": {
      "text/plain": [
       "<connection object at 0x0000015C62C35EB8; dsn: 'dbname='nflparse' user='postgres' host='localhost' password=xxxxxx', closed: 1>"
      ]
     },
     "execution_count": 108,
     "metadata": {},
     "output_type": "execute_result"
    }
   ],
   "source": [
    "conn"
   ]
  },
  {
   "cell_type": "code",
   "execution_count": 109,
   "metadata": {},
   "outputs": [
    {
     "data": {
      "text/plain": [
       "<cursor object at 0x0000015C63DCFAC8; closed: -1>"
      ]
     },
     "execution_count": 109,
     "metadata": {},
     "output_type": "execute_result"
    }
   ],
   "source": [
    "cursor"
   ]
  },
  {
   "cell_type": "code",
   "execution_count": 98,
   "metadata": {},
   "outputs": [
    {
     "data": {
      "text/plain": [
       "<connection object at 0x0000015C62C35EB8; dsn: 'dbname='nflparse' user='postgres' host='localhost' password=xxxxxx', closed: 0>"
      ]
     },
     "execution_count": 98,
     "metadata": {},
     "output_type": "execute_result"
    }
   ],
   "source": [
    "conn"
   ]
  },
  {
   "cell_type": "code",
   "execution_count": 99,
   "metadata": {
    "collapsed": true
   },
   "outputs": [],
   "source": [
    "cursor = conn.cursor()"
   ]
  },
  {
   "cell_type": "code",
   "execution_count": 100,
   "metadata": {
    "collapsed": true
   },
   "outputs": [],
   "source": [
    "cursor.execute(\"select column_name from information_schema.columns where table_schema = 'public' and table_name='nfl_team_articles'\")\n"
   ]
  },
  {
   "cell_type": "code",
   "execution_count": 101,
   "metadata": {
    "collapsed": true
   },
   "outputs": [],
   "source": [
    "column_names = [row[0] for row in cursor]"
   ]
  },
  {
   "cell_type": "code",
   "execution_count": 102,
   "metadata": {},
   "outputs": [
    {
     "data": {
      "text/plain": [
       "['date', 'team', 'title', 'type', 'link', 'discription', 'creator', 'id']"
      ]
     },
     "execution_count": 102,
     "metadata": {},
     "output_type": "execute_result"
    }
   ],
   "source": [
    "column_names"
   ]
  },
  {
   "cell_type": "code",
   "execution_count": null,
   "metadata": {
    "collapsed": true
   },
   "outputs": [],
   "source": []
  }
 ],
 "metadata": {
  "kernelspec": {
   "display_name": "Python 3",
   "language": "python",
   "name": "python3"
  },
  "language_info": {
   "codemirror_mode": {
    "name": "ipython",
    "version": 3
   },
   "file_extension": ".py",
   "mimetype": "text/x-python",
   "name": "python",
   "nbconvert_exporter": "python",
   "pygments_lexer": "ipython3",
   "version": "3.6.1"
  }
 },
 "nbformat": 4,
 "nbformat_minor": 2
}
