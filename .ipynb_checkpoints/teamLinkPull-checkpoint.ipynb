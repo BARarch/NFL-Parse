{
 "cells": [
  {
   "cell_type": "code",
   "execution_count": 1,
   "metadata": {},
   "outputs": [
    {
     "name": "stdout",
     "output_type": "stream",
     "text": [
      "Name, Major:\n",
      "0, http://www.steelers.com/cda-web/rss-module.htm?tagName=News\n",
      "1, http://www.steelers.com/cda-web/rss-module.htm?tagName=Photos\n",
      "2, http://www.steelers.com/cda-web/rss-module.htm?tagName=Videos\n",
      "3, http://www.steelers.com/cda-web/rss-module.htm?tagName=Audio\n",
      "4, http://www.steelers.com/cda-web/rss-module.htm?tagName=Espa%C3%B1ol\n",
      "5, http://www.baltimoreravens.com/cda-web/rss-module.htm?tagName=News\n",
      "6, http://www.baltimoreravens.com/cda-web/rss-module.htm?tagName=News%20-%20Press%20Releases\n",
      "7, http://www.baltimoreravens.com/cda-web/rss-module.htm?tagName=News%20-%20Transcripts\n",
      "8, http://www.baltimoreravens.com/cda-web/rss-module.htm?tagName=News%20-%20Late%20For%20Work\n",
      "9, http://www.baltimoreravens.com/cda-web/rss-module.htm?tagName=News%20-%20John%20Eisenberg\n",
      "10, http://www.baltimoreravens.com/cda-web/rss-module.htm?tagName=News%20-%20The%20Caw\n",
      "11, http://www.baltimoreravens.com/cda-web/rss-module.htm?tagName=News%20-%20Byrne%20Identity\n",
      "12, http://www.baltimoreravens.com/cda-web/rss-module.htm?tagName=News%20-%20Funny%20Pages\n",
      "13, http://www.baltimoreravens.com/cda-web/rss-module.htm?tagName=Videos\n",
      "14, http://www.baltimoreravens.com/cda-web/feeds/video/?clubTag=Video%20-%20Ravens%20Productions%20-%20Ravens%20Report\n",
      "15, http://www.baltimoreravens.com/cda-web/feeds/video/?clubTag=Video%20-%20Ravens%20Productions%20-%20Unscripted\n",
      "16, http://www.baltimoreravens.com/cda-web/feeds/video/?clubTag=Video%20-%20Ravens%20Productions%20-%20Wired\n",
      "17, http://www.baltimoreravens.com/cda-web/feeds/photo\n",
      "18, http://www.bengals.com/cda-web/rss-module.htm?tagName=News%20Stories\n",
      "19, http://blogs.bengals.com/category/hobsons-choice/feed/\n",
      "20, http://blogs.bengals.com/category/heard-it-from-hoard/feed/\n",
      "21, http://www.bengals.com/cda-web/feeds/photo/?clubTag=All%20Team%20Photos\n",
      "22, http://www.bengals.com/cda-web/feeds/photo/?clubTag=All%20Cheerleaders%20Photos\n",
      "23, http://www.clevelandbrowns.com/cda-web/rss-module.htm?tagName=News\n",
      "24, http://www.clevelandbrowns.com/cda-web/rss-module.htm?tagName=Audio\n",
      "25, http://www.clevelandbrowns.com/cda-web/rss-module.htm?tagName=Video\n",
      "26, http://www.clevelandbrowns.com/cda-web/rss-module.htm?tagName=Photo\n",
      "27, \n",
      "28, http://www.packers.com/cda-web/rss-module.htm?tagName=News\n",
      "29, http://www.packers.com/cda-web/rss-module.htm?tagName=Videos\n",
      "30, http://www.packers.com/cda-web/rss-module.htm?tagName=Photos\n",
      "31, http://www.packers.com/cda-web/rss-module.htm?tagName=Audio\n",
      "32, http://www.packers.com/cda-web/rss-module.htm?tagName=InsiderInbox\n",
      "33, http://www.packers.com/cda-web/rss-module.htm?tagName=AskVic\n",
      "34, http://www.vikings.com/cda-web/rss-module.htm?tagName=News\n",
      "35, http://www.vikings.com/cda-web/rss-module.htm?tagName=Videos\n",
      "36, http://www.vikings.com/cda-web/rss-module.htm?tagName=Photos\n",
      "37, http://www.vikings.com/cda-web/rss-module.htm?tagName=Audio\n",
      "38, http://www.detroitlions.com/cda-web/rss-module.htm?tagName=Audio\n",
      "39, http://www.detroitlions.com/cda-web/rss-module.htm?tagName=News\n",
      "40, http://www.detroitlions.com/cda-web/rss-module.htm?tagName=Photos\n",
      "41, http://www.detroitlions.com/cda-web/rss-module.htm?tagName=Video\n",
      "42, http://www.detroitlions.com/cda-web/rss-module.htm?tagName=Twentyman\n",
      "43, http://www.houstontexans.com/cda-web/rss-module.htm?tagName=News\n",
      "44, http://www.houstontexans.com/cda-web/rss-module.htm?tagName=Videos\n",
      "45, http://www.titansonline.com/cda-web/rss-module.htm?tagName=Audio\n",
      "46, http://www.titansonline.com/cda-web/rss-module.htm?tagName=Blogs\n",
      "47, http://www.titansonline.com/cda-web/rss-module.htm?tagName=Community\n",
      "48, http://www.titansonline.com/cda-web/rss-module.htm?tagName=Photos\n",
      "49, http://www.titansonline.com/cda-web/rss-module.htm?tagName=Team%20News\n",
      "50, http://www.titansonline.com/cda-web/rss-module.htm?tagName=TeamNews\n",
      "51, http://www.titansonline.com/cda-web/rss-module.htm?tagName=Videos\n",
      "52, http://www.titansonline.com/cda-web/rss-module.htm?tagName=Podcasts\n",
      "53, http://prod.www.jaguars.clubs.nfl.com/cda-web/rss-module.htm?tagName=News\n",
      "54, http://prod.www.jaguars.clubs.nfl.com/cda-web/rss-module.htm?tagName=News%20-%20The%20O-Zone\n",
      "55, http://prod.www.jaguars.clubs.nfl.com/cda-web/rss-module.htm?tagName=News%20-%20Editorials\n",
      "56, http://www.colts.com/cda-web/rss-module.htm?tagName=News\n",
      "57, http://www.colts.com/cda-web/rss-module.htm?tagName=Video\n",
      "58, http://www.colts.com/cda-web/rss-module.htm?tagName=Audio\n",
      "59, http://www.neworleanssaints.com/cda-web/rss-module.htm?tagName=News\n",
      "60, http://www.neworleanssaints.com/cda-web/rss-module.htm?tagName=Photos\n",
      "61, http://www.neworleanssaints.com/cda-web/rss-module.htm?tagName=Videos\n",
      "62, http://www.neworleanssaints.com/cda-web/rss-module.htm?tagName=Audio\n",
      "63, http://www.atlantafalcons.com/cda-web/rss-module.htm?tagName=News\n",
      "64, http://www.atlantafalcons.com/cda-web/rss-module.htm?tagName=Video\n",
      "65, http://www.buccaneers.com/cda-web/rss-module.htm?tagName=News\n",
      "66, http://www.buccaneers.com/cda-web/rss-module.htm?tagName=Videos\n",
      "67, http://www.buccaneers.com/cda-web/feeds/photo\n",
      "68, http://www.buccaneers.com/cda-web/rss-module.htm?tagName=Audio\n",
      "69, http://www.panthers.com/cda-web/rss-module.htm?tagName=Audio\n",
      "70, http://www.panthers.com/cda-web/rss-module.htm?tagName=News\n",
      "71, http://www.panthers.com/cda-web/rss-module.htm?tagName=Photos\n",
      "72, http://www.panthers.com/cda-web/rss-module.htm?tagName=Videos\n",
      "73, http://www.newyorkjets.com/cda-web/rss-module.htm?tagName=News\n",
      "74, http://www.newyorkjets.com/cda-web/rss-module.htm?tagName=Video\n",
      "75, http://www.newyorkjets.com/cda-web/rss-module.htm?tagName=Audio\n",
      "76, http://www.patriots.com/rss/article/mobile/all/News%20-%20Mobile\n",
      "77, http://www.patriots.com/rss/audio\n",
      "78, http://www.patriots.com/rss/video\n",
      "79, http://www.miamidolphins.com/cda-web/rss-module.htm?tagName=News\n",
      "80, http://www.miamidolphins.com/cda-web/rss-module.htm?tagName=Video\n",
      "81, http://www.miamidolphins.com/cda-web/rss-module.htm?tagName=Audio\n",
      "82, http://www.miamidolphins.com/cda-web/rss-module.htm?tagName=Photos\n",
      "83, http://www.miamidolphins.com/cda-web/rss-module.htm?tagName=Espanol\n",
      "84, http://www.miamidolphins.com/cda-web/rss-module.htm?tagName=Mobile\n",
      "85, http://www.miamidolphins.com/cda-web/rss-module.htm?tagName=Draft\n",
      "86, http://www.buffalobills.com/cda-web/rss-module.htm?tagName=LatestHeadlines\n",
      "87, http://blogs.buffalobills.com/feed/\n",
      "88, http://www.buffalobills.com/cda-web/rss-module.htm?tagName=JohnMurphyShow\n",
      "89, http://www.redskins.com/cda-web/rss-module.htm?tagName=News\n",
      "90, http://www.redskins.com/cda-web/rss-module.htm?tagName=Video\n",
      "91, http://www.redskins.com/cda-web/rss-module.htm?tagName=Photos\n",
      "92, http://www.redskins.com/cda-web/rss-module.htm?tagName=Audio\n",
      "93, http://www.redskins.com/cda-web/rss-module.htm?tagName=Blog\n",
      "94, http://www.philadelphiaeagles.com/cda-web/rss-module.htm?tagName=News\n",
      "95, http://www.philadelphiaeagles.com/cda-web/rss-module.htm?tagName=Video\n",
      "96, http://www.philadelphiaeagles.com/cda-web/rss-module.htm?tagName=Photos\n",
      "97, http://www.philadelphiaeagles.com/cda-web/rss-module.htm?tagName=Audio\n",
      "98, http://www.philadelphiaeagles.com/cda-web/rss-module.htm?tagName=News%20-%20Eagles%20All-Access\n",
      "99, http://www.philadelphiaeagles.com/cda-web/rss-module.htm?tagName=Spadaro\n",
      "100, http://www.dallascowboys.com/rss/article\n",
      "101, http://www.dallascowboys.com/rss/video/\n",
      "102, http://www.dallascowboys.com/rss/audio\n",
      "103, http://www.dallascowboys.com/rss/gallery\n",
      "104, http://www.giants.com/cda-web/rss-module.htm?tagName=News\n",
      "105, http://www.giants.com/cda-web/rss-module.htm?tagName=Videos\n",
      "106, http://www.raiders.com/cda-web/rss-module.htm?tagName=News\n",
      "107, http://www.raiders.com/cda-web/rss-module.htm?tagName=Blogs\n",
      "108, http://www.raiders.com/cda-web/rss-module.htm?tagName=Videos\n",
      "109, http://www.raiders.com/cda-web/rss-module.htm?tagName=Photos\n",
      "110, null\n",
      "111, http://www.denverbroncos.com/cda-web/rss-module.htm?tagName=News&view=mobile\n",
      "112, http://www.denverbroncos.com/cda-web/feeds/audio\n",
      "113, http://www.denverbroncos.com/cda-web/feeds/video\n",
      "114, http://www.denverbroncos.com/cda-web/feeds/photo\n",
      "115, http://www.chiefs.com/cda-web/rss-module.htm?tagName=News\n",
      "116, http://www.chiefs.com/cda-web/rss-module.htm?tagName=Videos\n",
      "117, http://www.49ers.com/cda-web/rss-module.htm?tagName=News\n",
      "118, http://www.49ers.com/cda-web/rss-module.htm?tagName=Audio\n",
      "119, http://www.49ers.com/cda-web/rss-module.htm?tagName=Video\n",
      "120, http://www.49ers.com/cda-web/rss-module.htm?tagName=Player%20Columnists\n",
      "121, http://www.49ers.com/cda-web/rss-module.htm?tagName=Insider%20Columnists\n",
      "122, http://www.49ers.com/cda-web/rss-module.htm?tagName=Coach%27s%20Notebook\n",
      "123, http://www.therams.com/cda-web/rss-module.htm?tagName=News\n",
      "124, http://www.therams.com/cda-web/rss-module.htm?tagName=Video\n",
      "125, http://www.seahawks.com/rss/article\n",
      "126, http://www.seahawks.com/rss/gallery\n",
      "127, http://www.seahawks.com/rss/audio\n",
      "128, http://www.seahawks.com/rss/audio\n",
      "129, http://www.seahawks.com/xml/roster\n",
      "130, http://www.azcardinals.com/cda-web/rss-module.htm?tagName=News\n",
      "131, http://www.azcardinals.com/cda-web/rss-module.htm?tagName=Photos\n",
      "132, http://www.azcardinals.com/cda-web/rss-module.htm?tagName=Videos%20-%20AzCardinals.com%20TV\n",
      "133, http://www.azcardinals.com/cda-web/rss-module.htm?tagName=Videos%20-%20Press%20Conferences\n",
      "134, http://www.azcardinals.com/cda-web/rss-module.htm?tagName=Videos%20-%20Game%20Highlights\n",
      "135, http://www.azcardinals.com/cda-web/rss-module.htm?tagName=Videos%20-%20Maximum%20Cardinals\n",
      "136, http://www.azcardinals.com/cda-web/rss-module.htm?tagName=Audio%20-%20In%20the%20Red%20Zone\n",
      "137, http://www.azcardinals.com/cda-web/rss-module.htm?tagName=Audio%20-%20Big%20Red%20Rage\n",
      "138, http://www.azcardinals.com/cda-web/rss-module.htm?tagName=Audio%20-%20Cardinals%20Underground\n",
      "139, http://www.azcardinals.com/cda-web/rss-module.htm?tagName=Espanol%20News\n",
      "140, http://www.azcardinals.com/cda-web/rss-module.htm?tagName=Espanol%20Audio\n"
     ]
    },
    {
     "data": {
      "text/plain": [
       "{'49ers': 'http://www.49ers.com/cda-web/rss-module.htm?tagName=News',\n",
       " 'Bengals': 'http://www.bengals.com/cda-web/rss-module.htm?tagName=News%20Stories',\n",
       " 'Bills': 'http://www.buffalobills.com/cda-web/rss-module.htm?tagName=LatestHeadlines',\n",
       " 'Broncos': 'http://www.denverbroncos.com/cda-web/rss-module.htm?tagName=News&view=mobile',\n",
       " 'Browns': 'http://www.clevelandbrowns.com/cda-web/rss-module.htm?tagName=News',\n",
       " 'Buccaneers': 'http://www.buccaneers.com/cda-web/rss-module.htm?tagName=News',\n",
       " 'Cardinals': 'http://www.azcardinals.com/cda-web/rss-module.htm?tagName=News',\n",
       " 'Chiefs': 'http://www.chiefs.com/cda-web/rss-module.htm?tagName=News',\n",
       " 'Colts': 'http://www.colts.com/cda-web/rss-module.htm?tagName=News',\n",
       " 'Cowboys': 'http://www.dallascowboys.com/rss/article',\n",
       " 'Dolphins': 'http://www.miamidolphins.com/cda-web/rss-module.htm?tagName=News',\n",
       " 'Eagles': 'http://www.philadelphiaeagles.com/cda-web/rss-module.htm?tagName=News',\n",
       " 'Falcons': 'http://www.atlantafalcons.com/cda-web/rss-module.htm?tagName=News',\n",
       " 'Giants': 'http://www.giants.com/cda-web/rss-module.htm?tagName=News',\n",
       " 'Jaguars': 'http://prod.www.jaguars.clubs.nfl.com/cda-web/rss-module.htm?tagName=News',\n",
       " 'Jets': 'http://www.newyorkjets.com/cda-web/rss-module.htm?tagName=News',\n",
       " 'Lions': 'http://www.detroitlions.com/cda-web/rss-module.htm?tagName=News',\n",
       " 'Packers': 'http://www.packers.com/cda-web/rss-module.htm?tagName=News',\n",
       " 'Panthers': 'http://www.panthers.com/cda-web/rss-module.htm?tagName=News',\n",
       " 'Patriots': 'http://www.patriots.com/rss/article/mobile/all/News%20-%20Mobile',\n",
       " 'Raiders': 'http://www.raiders.com/cda-web/rss-module.htm?tagName=News',\n",
       " 'Rams': 'http://www.therams.com/cda-web/rss-module.htm?tagName=News',\n",
       " 'Ravens': 'http://www.baltimoreravens.com/cda-web/rss-module.htm?tagName=News',\n",
       " 'Redskins': 'http://www.redskins.com/cda-web/rss-module.htm?tagName=News',\n",
       " 'Saints': 'http://www.neworleanssaints.com/cda-web/rss-module.htm?tagName=News',\n",
       " 'Seahawks': 'http://www.seahawks.com/rss/article',\n",
       " 'Steelers': 'http://www.steelers.com/cda-web/rss-module.htm?tagName=News',\n",
       " 'Texans': 'http://www.houstontexans.com/cda-web/rss-module.htm?tagName=News',\n",
       " 'Titans': 'http://www.titansonline.com/cda-web/rss-module.htm?tagName=TeamNews',\n",
       " 'Vikings': 'http://www.vikings.com/cda-web/rss-module.htm?tagName=News'}"
      ]
     },
     "execution_count": 1,
     "metadata": {},
     "output_type": "execute_result"
    }
   ],
   "source": [
    "import itemQuery as iq\n",
    "import articleParse as ap\n",
    "%run nfl-parse-demo.py\n",
    "\n",
    "newsFeedTypes = ['News', 'All News', 'news', 'TeamNews', 'Latest Content', 'News Stories', 'Team Stories', 'Latest Headlines', 'Articles']\n",
    "teamNewsFeeds = {x[1]:x[3] for x in list(filter(lambda x: x[2] in newsFeedTypes , vals))}\n",
    "\n",
    "teamNewsFeeds"
   ]
  },
  {
   "cell_type": "code",
   "execution_count": 2,
   "metadata": {},
   "outputs": [
    {
     "data": {
      "text/plain": [
       "{'49ers': 'http://www.49ers.com/cda-web/rss-module.htm?tagName=News',\n",
       " 'Bengals': 'http://www.bengals.com/cda-web/rss-module.htm?tagName=News%20Stories',\n",
       " 'Bills': 'http://www.buffalobills.com/cda-web/rss-module.htm?tagName=LatestHeadlines',\n",
       " 'Broncos': 'http://www.denverbroncos.com/cda-web/rss-module.htm?tagName=News&view=mobile',\n",
       " 'Browns': 'http://www.clevelandbrowns.com/cda-web/rss-module.htm?tagName=News',\n",
       " 'Buccaneers': 'http://www.buccaneers.com/cda-web/rss-module.htm?tagName=News',\n",
       " 'Cardinals': 'http://www.azcardinals.com/cda-web/rss-module.htm?tagName=News',\n",
       " 'Chiefs': 'http://www.chiefs.com/cda-web/rss-module.htm?tagName=News',\n",
       " 'Colts': 'http://www.colts.com/cda-web/rss-module.htm?tagName=News',\n",
       " 'Cowboys': 'http://www.dallascowboys.com/rss/article',\n",
       " 'Dolphins': 'http://www.miamidolphins.com/cda-web/rss-module.htm?tagName=News',\n",
       " 'Eagles': 'http://www.philadelphiaeagles.com/cda-web/rss-module.htm?tagName=News',\n",
       " 'Falcons': 'http://www.atlantafalcons.com/cda-web/rss-module.htm?tagName=News',\n",
       " 'Giants': 'http://www.giants.com/cda-web/rss-module.htm?tagName=News',\n",
       " 'Jaguars': 'http://prod.www.jaguars.clubs.nfl.com/cda-web/rss-module.htm?tagName=News',\n",
       " 'Jets': 'http://www.newyorkjets.com/cda-web/rss-module.htm?tagName=News',\n",
       " 'Lions': 'http://www.detroitlions.com/cda-web/rss-module.htm?tagName=News',\n",
       " 'Packers': 'http://www.packers.com/cda-web/rss-module.htm?tagName=News',\n",
       " 'Panthers': 'http://www.panthers.com/cda-web/rss-module.htm?tagName=News',\n",
       " 'Patriots': 'http://www.patriots.com/rss/article/mobile/all/News%20-%20Mobile',\n",
       " 'Raiders': 'http://www.raiders.com/cda-web/rss-module.htm?tagName=News',\n",
       " 'Rams': 'http://www.therams.com/cda-web/rss-module.htm?tagName=News',\n",
       " 'Ravens': 'http://www.baltimoreravens.com/cda-web/rss-module.htm?tagName=News',\n",
       " 'Redskins': 'http://www.redskins.com/cda-web/rss-module.htm?tagName=News',\n",
       " 'Saints': 'http://www.neworleanssaints.com/cda-web/rss-module.htm?tagName=News',\n",
       " 'Seahawks': 'http://www.seahawks.com/rss/article',\n",
       " 'Steelers': 'http://www.steelers.com/cda-web/rss-module.htm?tagName=News',\n",
       " 'Texans': 'http://www.houstontexans.com/cda-web/rss-module.htm?tagName=News',\n",
       " 'Titans': 'http://www.titansonline.com/cda-web/rss-module.htm?tagName=TeamNews',\n",
       " 'Vikings': 'http://www.vikings.com/cda-web/rss-module.htm?tagName=News'}"
      ]
     },
     "execution_count": 2,
     "metadata": {},
     "output_type": "execute_result"
    }
   ],
   "source": [
    "teamNewsFeeds"
   ]
  },
  {
   "cell_type": "code",
   "execution_count": 27,
   "metadata": {
    "collapsed": true
   },
   "outputs": [],
   "source": [
    "from timeit import default_timer as timer\n",
    "import random"
   ]
  },
  {
   "cell_type": "code",
   "execution_count": 93,
   "metadata": {},
   "outputs": [
    {
     "name": "stdout",
     "output_type": "stream",
     "text": [
      "0.0851605381240006\n"
     ]
    }
   ],
   "source": [
    "# The tester, set the team to the feed you want to check\n",
    "team = 'Rams'\n",
    "\n",
    "start = timer()\n",
    "summary = iq.teamNews(teamNewsFeeds[team])\n",
    "end = timer()\n",
    "print(end - start)\n",
    "sel = random.randint(0,10)"
   ]
  },
  {
   "cell_type": "code",
   "execution_count": 94,
   "metadata": {},
   "outputs": [
    {
     "data": {
      "text/plain": [
       "[('Les Snead Appears on ESPN LA 710',\n",
       "  'Tue, 15 Aug 2017 17:05:00 GMT',\n",
       "  'http://www.therams.com/news-and-events/article-1/Les-Snead-Appears-on-ESPN-LA-710/aa00fe37-9ea4-4a84-90f0-61f16a076aa6'),\n",
       " ('Training Camp Report: Everything You Need to Know From Day 13',\n",
       "  'Tue, 15 Aug 2017 04:00:03 GMT',\n",
       "  'http://www.therams.com/news-and-events/article-1/Training-Camp-Report-Everything-You-Need-to-Know-From-Day-13/13d24d04-4b1d-45de-ada7-798ba1f09cba')]"
      ]
     },
     "execution_count": 94,
     "metadata": {},
     "output_type": "execute_result"
    }
   ],
   "source": [
    "summary[sel:sel+2]"
   ]
  },
  {
   "cell_type": "code",
   "execution_count": null,
   "metadata": {
    "collapsed": true
   },
   "outputs": [],
   "source": []
  }
 ],
 "metadata": {
  "kernelspec": {
   "display_name": "Python 3",
   "language": "python",
   "name": "python3"
  },
  "language_info": {
   "codemirror_mode": {
    "name": "ipython",
    "version": 3
   },
   "file_extension": ".py",
   "mimetype": "text/x-python",
   "name": "python",
   "nbconvert_exporter": "python",
   "pygments_lexer": "ipython3",
   "version": "3.6.1"
  }
 },
 "nbformat": 4,
 "nbformat_minor": 2
}
