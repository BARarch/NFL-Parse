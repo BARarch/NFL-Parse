{
 "cells": [
  {
   "cell_type": "code",
   "execution_count": 1,
   "metadata": {},
   "outputs": [
    {
     "name": "stdout",
     "output_type": "stream",
     "text": [
      "Done\n",
      "team: Steelers 0\n",
      "team: Steelers 1\n",
      "team: Steelers 2\n",
      "team: Steelers 3\n",
      "team: Steelers 4\n",
      "team: Ravens 5\n",
      "team: Ravens 6\n",
      "team: Ravens 7\n",
      "team: Ravens 8\n",
      "team: Ravens 9\n",
      "team: Ravens 10\n",
      "team: Ravens 11\n",
      "team: Ravens 12\n",
      "team: Ravens 13\n",
      "team: Ravens 14\n",
      "team: Ravens 15\n",
      "team: Ravens 16\n",
      "team: Ravens 17\n",
      "team: Bengals 18\n",
      "team: Bengals 19\n",
      "team: Bengals 20\n",
      "team: Bengals 21\n",
      "team: Bengals 22\n",
      "team: Browns 23\n",
      "team: Browns 24\n",
      "team: Browns 25\n",
      "team: Browns 26\n",
      "team: Packers 28\n",
      "team: Packers 29\n",
      "team: Packers 30\n",
      "team: Packers 31\n",
      "team: Packers 32\n",
      "team: Packers 33\n",
      "team: Vikings 34\n",
      "team: Vikings 35\n",
      "team: Vikings 36\n",
      "team: Vikings 37\n",
      "team: Lions 38\n",
      "team: Lions 39\n",
      "team: Lions 40\n",
      "team: Lions 41\n",
      "team: Lions 42\n",
      "team: Texans 43\n",
      "team: Texans 44\n",
      "team: Titans 45\n",
      "team: Titans 46\n",
      "team: Titans 47\n",
      "team: Titans 48\n",
      "team: Titans 49\n",
      "team: Titans 50\n",
      "team: Titans 51\n",
      "team: Titans 52\n",
      "team: Jaguars 53\n",
      "team: Jaguars 54\n",
      "team: Jaguars 55\n",
      "team: Colts 56\n",
      "team: Colts 57\n",
      "team: Colts 58\n",
      "team: Saints 59\n",
      "team: Saints 60\n",
      "team: Saints 61\n",
      "team: Saints 62\n",
      "team: Falcons 63\n",
      "team: Falcons 64\n",
      "team: Buccaneers 65\n",
      "team: Buccaneers 66\n",
      "team: Buccaneers 67\n",
      "team: Buccaneers 68\n",
      "team: Panthers 69\n",
      "team: Panthers 70\n",
      "team: Panthers 71\n",
      "team: Panthers 72\n",
      "team: Jets 73\n",
      "team: Jets 74\n",
      "team: Jets 75\n",
      "team: Patriots 76\n",
      "team: Patriots 77\n",
      "team: Patriots 78\n",
      "team: Dolphins 79\n",
      "team: Dolphins 80\n",
      "team: Dolphins 81\n",
      "team: Dolphins 82\n",
      "team: Dolphins 83\n",
      "team: Dolphins 84\n",
      "team: Dolphins 85\n",
      "team: Bills 86\n",
      "team: Bills 87\n",
      "team: Bills 88\n",
      "team: Redskins 89\n",
      "team: Redskins 90\n",
      "team: Redskins 91\n",
      "team: Redskins 92\n",
      "team: Redskins 93\n",
      "team: Eagles 94\n",
      "team: Eagles 95\n",
      "team: Eagles 96\n",
      "team: Eagles 97\n",
      "team: Eagles 98\n",
      "team: Eagles 99\n",
      "team: Cowboys 100\n",
      "team: Cowboys 101\n",
      "team: Cowboys 102\n",
      "team: Cowboys 103\n",
      "team: Giants 104\n",
      "team: Giants 105\n",
      "team: Raiders 106\n",
      "team: Raiders 107\n",
      "team: Raiders 108\n",
      "team: Raiders 109\n",
      "team: Broncos 111\n",
      "team: Broncos 112\n",
      "team: Broncos 113\n",
      "team: Broncos 114\n",
      "team: Chiefs 115\n",
      "team: Chiefs 116\n",
      "team: 49ers 117\n",
      "team: 49ers 118\n",
      "team: 49ers 119\n",
      "team: 49ers 120\n",
      "team: 49ers 121\n",
      "team: 49ers 122\n",
      "team: Rams 123\n",
      "team: Rams 124\n",
      "team: Seahawks 125\n",
      "team: Seahawks 126\n",
      "team: Seahawks 127\n",
      "team: Seahawks 128\n",
      "team: Seahawks 129\n",
      "team: Cardinals 130\n",
      "team: Cardinals 131\n",
      "team: Cardinals 132\n",
      "team: Cardinals 133\n",
      "team: Cardinals 134\n",
      "team: Cardinals 135\n",
      "team: Cardinals 136\n",
      "team: Cardinals 137\n",
      "team: Cardinals 138\n",
      "team: Cardinals 139\n",
      "team: Cardinals 140\n"
     ]
    }
   ],
   "source": [
    "%run pullFeeds.py"
   ]
  },
  {
   "cell_type": "code",
   "execution_count": 2,
   "metadata": {},
   "outputs": [
    {
     "data": {
      "text/plain": [
       "2106"
      ]
     },
     "execution_count": 2,
     "metadata": {},
     "output_type": "execute_result"
    }
   ],
   "source": [
    "len(dataSorts)"
   ]
  },
  {
   "cell_type": "code",
   "execution_count": 3,
   "metadata": {},
   "outputs": [
    {
     "data": {
      "text/plain": [
       "'Mon, 21 Aug 2017 17:35:42 GMT'"
      ]
     },
     "execution_count": 3,
     "metadata": {},
     "output_type": "execute_result"
    }
   ],
   "source": [
    "dataSorts[0]['pubDate']"
   ]
  },
  {
   "cell_type": "code",
   "execution_count": null,
   "metadata": {
    "collapsed": true
   },
   "outputs": [],
   "source": []
  }
 ],
 "metadata": {
  "kernelspec": {
   "display_name": "Python 3",
   "language": "python",
   "name": "python3"
  },
  "language_info": {
   "codemirror_mode": {
    "name": "ipython",
    "version": 3
   },
   "file_extension": ".py",
   "mimetype": "text/x-python",
   "name": "python",
   "nbconvert_exporter": "python",
   "pygments_lexer": "ipython3",
   "version": "3.6.1"
  }
 },
 "nbformat": 4,
 "nbformat_minor": 2
}
