{
 "cells": [
  {
   "cell_type": "code",
   "execution_count": 1,
   "metadata": {},
   "outputs": [
    {
     "name": "stdout",
     "output_type": "stream",
     "text": [
      "Done\n",
      "team: Steelers 0    \t0/15\n",
      "team: Steelers 1    \t0/15\n",
      "team: Steelers 2    \t0/15\n",
      "team: Steelers 3    \t0/15\n",
      "team: Steelers 4    \t0/15\n",
      "team: Ravens 5    \t0/15\n",
      "team: Ravens 6    \t0/15\n",
      "team: Ravens 7    \t0/15\n",
      "team: Ravens 8    \t0/15\n",
      "team: Ravens 9    \t0/15\n",
      "team: Ravens 10    \t0/15\n",
      "team: Ravens 11    \t0/15\n",
      "team: Ravens 12    \t0/15\n",
      "team: Ravens 13    \t0/15\n",
      "team: Ravens 14    \t0/15\n",
      "team: Ravens 15    \t0/15\n",
      "team: Ravens 16    \t0/15\n",
      "team: Ravens 17    \t0/17\n",
      "team: Bengals 18    \t0/15\n",
      "team: Bengals 19    \t0/20\n",
      "team: Bengals 20    \t0/20\n",
      "team: Bengals 21    \t0/10\n",
      "team: Bengals 22    \t0/10\n",
      "team: Browns 23    \t0/15\n",
      "team: Browns 24    \t0/222\n",
      "team: Browns 25    \t0/15\n",
      "team: Browns 26    \t0/3\n",
      "team: Packers 28    \t0/15\n",
      "team: Packers 29    \t0/15\n",
      "team: Packers 30    \t0/5\n",
      "team: Packers 31    \t0/15\n",
      "team: Packers 32    \t0/15\n",
      "team: Packers 33    \t0/15\n",
      "team: Vikings 34    \t0/15\n",
      "team: Vikings 35    \t0/15\n",
      "team: Vikings 36    \t0/2\n",
      "team: Vikings 37    \t0/15\n",
      "team: Lions 38    \t0/15\n",
      "team: Lions 39    \t0/15\n",
      "team: Lions 40    \t0/15\n",
      "team: Lions 41    \t0/15\n",
      "team: Lions 42    \t0/15\n",
      "team: Texans 43    \t0/15\n",
      "team: Texans 44    \t0/15\n",
      "team: Titans 45    \t0/15\n",
      "team: Titans 46    \t0/15\n",
      "team: Titans 47    \t0/15\n",
      "team: Titans 48    \t0/10\n",
      "team: Titans 49    \t0/15\n",
      "team: Titans 50    \t0/15\n",
      "team: Titans 51    \t0/15\n",
      "team: Titans 52    \t0/15\n",
      "team: Jaguars 53    \t0/15\n",
      "team: Jaguars 54    \t0/15\n",
      "team: Jaguars 55    \t0/15\n",
      "team: Colts 56    \t0/15\n",
      "team: Colts 57    \t0/15\n",
      "team: Colts 58    \t0/15\n",
      "team: Saints 59    \t0/15\n",
      "team: Saints 60    \t0/15\n",
      "team: Saints 61    \t0/15\n",
      "team: Saints 62    \t0/15\n",
      "team: Falcons 63    \t0/15\n",
      "team: Falcons 64    \t0/15\n",
      "team: Buccaneers 65    \t0/15\n",
      "team: Buccaneers 66    \t0/15\n",
      "team: Buccaneers 67    \t0/10\n",
      "team: Buccaneers 68    \t0/15\n",
      "team: Panthers 69    \t0/15\n",
      "team: Panthers 70    \t0/15\n",
      "team: Panthers 71    \t0/10\n",
      "team: Panthers 72    \t0/15\n",
      "team: Jets 73    \t0/15\n",
      "team: Jets 74    \t0/15\n",
      "team: Jets 75    \t0/15\n",
      "team: Patriots 76    \t0/15\n",
      "team: Patriots 77    \t0/10\n",
      "team: Patriots 78    \t0/10\n",
      "team: Dolphins 79    \t0/15\n",
      "team: Dolphins 80    \t0/15\n",
      "team: Dolphins 81    \t0/15\n",
      "team: Dolphins 82    \t0/0\n",
      "team: Dolphins 83    \t0/15\n",
      "team: Dolphins 84    \t0/15\n",
      "team: Dolphins 85    \t0/15\n",
      "team: Bills 86    \t0/15\n",
      "team: Bills 87    \t0/20\n",
      "team: Bills 88    \t0/15\n",
      "team: Redskins 89    \t0/15\n",
      "team: Redskins 90    \t0/15\n",
      "team: Redskins 91    \t0/10\n",
      "team: Redskins 92    \t0/15\n",
      "team: Redskins 93    \t0/15\n",
      "team: Eagles 94    \t0/15\n",
      "team: Eagles 95    \t0/15\n",
      "team: Eagles 96    \t0/1\n",
      "team: Eagles 97    \t0/15\n",
      "team: Eagles 98    \t0/15\n",
      "team: Eagles 99    \t0/0\n",
      "team: Cowboys 100    \t0/15\n",
      "team: Cowboys 101    \t0/10\n",
      "team: Cowboys 102    \t0/10\n",
      "team: Cowboys 103    \t0/10\n",
      "team: Giants 104    \t0/15\n",
      "team: Giants 105    \t0/15\n",
      "team: Raiders 106    \t0/15\n",
      "team: Raiders 107    \t0/15\n",
      "team: Raiders 108    \t0/15\n",
      "team: Raiders 109    \t0/2\n",
      "team: Broncos 111    \t0/15\n",
      "team: Broncos 112    \t0/15\n",
      "team: Broncos 113    \t0/15\n",
      "team: Broncos 114    \t0/18\n",
      "team: Chiefs 115    \t0/15\n",
      "team: Chiefs 116    \t0/15\n",
      "team: 49ers 117    \t0/15\n",
      "team: 49ers 118    \t0/15\n",
      "team: 49ers 119    \t0/15\n",
      "team: 49ers 120    \t0/15\n",
      "team: 49ers 121    \t0/15\n",
      "team: 49ers 122    \t0/15\n",
      "team: Rams 123    \t0/15\n",
      "team: Rams 124    \t0/15\n",
      "team: Seahawks 125    \t0/15\n",
      "team: Seahawks 126    \t0/10\n",
      "team: Seahawks 127    \t0/10\n",
      "team: Seahawks 128    \t0/10\n",
      "team: Seahawks 129    \t0/0\n",
      "team: Cardinals 130    \t0/15\n",
      "team: Cardinals 131    \t0/3\n",
      "team: Cardinals 132    \t0/15\n",
      "team: Cardinals 133    \t0/15\n",
      "team: Cardinals 134    \t0/15\n",
      "team: Cardinals 135    \t0/15\n",
      "team: Cardinals 136    \t0/15\n",
      "team: Cardinals 137    \t0/15\n",
      "team: Cardinals 138    \t0/15\n",
      "team: Cardinals 139    \t0/15\n",
      "team: Cardinals 140    \t0/15\n",
      "0 new records intserted into nfl-team-articles\n",
      "complete\n"
     ]
    },
    {
     "ename": "NameError",
     "evalue": "name 'googleapiclient' is not defined",
     "output_type": "error",
     "traceback": [
      "\u001b[1;31m---------------------------------------------------------------------------\u001b[0m",
      "\u001b[1;31mHttpError\u001b[0m                                 Traceback (most recent call last)",
      "\u001b[1;32mC:\\Users\\Anthony\\scripts\\NFL-Data\\NFL-Parse\\pullFeeds.py\u001b[0m in \u001b[0;36m<module>\u001b[1;34m()\u001b[0m\n\u001b[0;32m    165\u001b[0m \u001b[1;32mtry\u001b[0m\u001b[1;33m:\u001b[0m\u001b[1;33m\u001b[0m\u001b[0m\n\u001b[1;32m--> 166\u001b[1;33m     \u001b[0mwriteLinkData\u001b[0m\u001b[1;33m(\u001b[0m\u001b[1;33m[\u001b[0m\u001b[0msheetColumns\u001b[0m\u001b[1;33m(\u001b[0m\u001b[0mrecord\u001b[0m\u001b[1;33m)\u001b[0m \u001b[1;32mfor\u001b[0m \u001b[0mrecord\u001b[0m \u001b[1;32min\u001b[0m \u001b[0mdataSorts\u001b[0m\u001b[1;33m]\u001b[0m\u001b[1;33m)\u001b[0m\u001b[1;33m\u001b[0m\u001b[0m\n\u001b[0m\u001b[0;32m    167\u001b[0m \u001b[1;32mexcept\u001b[0m \u001b[0mgoogleapiclient\u001b[0m\u001b[1;33m.\u001b[0m\u001b[0merrors\u001b[0m\u001b[1;33m.\u001b[0m\u001b[0mHttpError\u001b[0m\u001b[1;33m:\u001b[0m\u001b[1;33m\u001b[0m\u001b[0m\n",
      "\u001b[1;32mC:\\Users\\Anthony\\scripts\\NFL-Data\\NFL-Parse\\pullFeeds.py\u001b[0m in \u001b[0;36mwriteLinkData\u001b[1;34m(dataColumns)\u001b[0m\n\u001b[0;32m     64\u001b[0m     result = service.spreadsheets().values().update(spreadsheetId=spreadsheet_id, range=rangeName,\n\u001b[1;32m---> 65\u001b[1;33m                                                     valueInputOption=value_input_option, body=body).execute()\n\u001b[0m\u001b[0;32m     66\u001b[0m \u001b[1;33m\u001b[0m\u001b[0m\n",
      "\u001b[1;32mC:\\Users\\Anthony\\Anaconda3\\lib\\site-packages\\oauth2client\\_helpers.py\u001b[0m in \u001b[0;36mpositional_wrapper\u001b[1;34m(*args, **kwargs)\u001b[0m\n\u001b[0;32m    132\u001b[0m                     \u001b[0mlogger\u001b[0m\u001b[1;33m.\u001b[0m\u001b[0mwarning\u001b[0m\u001b[1;33m(\u001b[0m\u001b[0mmessage\u001b[0m\u001b[1;33m)\u001b[0m\u001b[1;33m\u001b[0m\u001b[0m\n\u001b[1;32m--> 133\u001b[1;33m             \u001b[1;32mreturn\u001b[0m \u001b[0mwrapped\u001b[0m\u001b[1;33m(\u001b[0m\u001b[1;33m*\u001b[0m\u001b[0margs\u001b[0m\u001b[1;33m,\u001b[0m \u001b[1;33m**\u001b[0m\u001b[0mkwargs\u001b[0m\u001b[1;33m)\u001b[0m\u001b[1;33m\u001b[0m\u001b[0m\n\u001b[0m\u001b[0;32m    134\u001b[0m         \u001b[1;32mreturn\u001b[0m \u001b[0mpositional_wrapper\u001b[0m\u001b[1;33m\u001b[0m\u001b[0m\n",
      "\u001b[1;32mC:\\Users\\Anthony\\Anaconda3\\lib\\site-packages\\googleapiclient\\http.py\u001b[0m in \u001b[0;36mexecute\u001b[1;34m(self, http, num_retries)\u001b[0m\n\u001b[0;32m    839\u001b[0m     \u001b[1;32mif\u001b[0m \u001b[0mresp\u001b[0m\u001b[1;33m.\u001b[0m\u001b[0mstatus\u001b[0m \u001b[1;33m>=\u001b[0m \u001b[1;36m300\u001b[0m\u001b[1;33m:\u001b[0m\u001b[1;33m\u001b[0m\u001b[0m\n\u001b[1;32m--> 840\u001b[1;33m       \u001b[1;32mraise\u001b[0m \u001b[0mHttpError\u001b[0m\u001b[1;33m(\u001b[0m\u001b[0mresp\u001b[0m\u001b[1;33m,\u001b[0m \u001b[0mcontent\u001b[0m\u001b[1;33m,\u001b[0m \u001b[0muri\u001b[0m\u001b[1;33m=\u001b[0m\u001b[0mself\u001b[0m\u001b[1;33m.\u001b[0m\u001b[0muri\u001b[0m\u001b[1;33m)\u001b[0m\u001b[1;33m\u001b[0m\u001b[0m\n\u001b[0m\u001b[0;32m    841\u001b[0m     \u001b[1;32mreturn\u001b[0m \u001b[0mself\u001b[0m\u001b[1;33m.\u001b[0m\u001b[0mpostproc\u001b[0m\u001b[1;33m(\u001b[0m\u001b[0mresp\u001b[0m\u001b[1;33m,\u001b[0m \u001b[0mcontent\u001b[0m\u001b[1;33m)\u001b[0m\u001b[1;33m\u001b[0m\u001b[0m\n",
      "\u001b[1;31mHttpError\u001b[0m: <HttpError 400 when requesting https://sheets.googleapis.com/v4/spreadsheets/1XiOZWw3S__3l20Fo0LzpMmnro9NYDulJtMko09KsZJQ/values/Sheet1%21A2?valueInputOption=RAW&alt=json returned \"Your input contains more than the maximum of 50000 characters in a single cell.\">",
      "\nDuring handling of the above exception, another exception occurred:\n",
      "\u001b[1;31mNameError\u001b[0m                                 Traceback (most recent call last)",
      "\u001b[1;32mC:\\Users\\Anthony\\scripts\\NFL-Data\\NFL-Parse\\pullFeeds.py\u001b[0m in \u001b[0;36m<module>\u001b[1;34m()\u001b[0m\n\u001b[0;32m    165\u001b[0m \u001b[1;32mtry\u001b[0m\u001b[1;33m:\u001b[0m\u001b[1;33m\u001b[0m\u001b[0m\n\u001b[0;32m    166\u001b[0m     \u001b[0mwriteLinkData\u001b[0m\u001b[1;33m(\u001b[0m\u001b[1;33m[\u001b[0m\u001b[0msheetColumns\u001b[0m\u001b[1;33m(\u001b[0m\u001b[0mrecord\u001b[0m\u001b[1;33m)\u001b[0m \u001b[1;32mfor\u001b[0m \u001b[0mrecord\u001b[0m \u001b[1;32min\u001b[0m \u001b[0mdataSorts\u001b[0m\u001b[1;33m]\u001b[0m\u001b[1;33m)\u001b[0m\u001b[1;33m\u001b[0m\u001b[0m\n\u001b[1;32m--> 167\u001b[1;33m \u001b[1;32mexcept\u001b[0m \u001b[0mgoogleapiclient\u001b[0m\u001b[1;33m.\u001b[0m\u001b[0merrors\u001b[0m\u001b[1;33m.\u001b[0m\u001b[0mHttpError\u001b[0m\u001b[1;33m:\u001b[0m\u001b[1;33m\u001b[0m\u001b[0m\n\u001b[0m\u001b[0;32m    168\u001b[0m     \u001b[0mwriteLinkData\u001b[0m\u001b[1;33m(\u001b[0m\u001b[1;33m[\u001b[0m\u001b[0msheetColumns2ndAttempt\u001b[0m\u001b[1;33m(\u001b[0m\u001b[0mrecord\u001b[0m\u001b[1;33m)\u001b[0m \u001b[1;32mfor\u001b[0m \u001b[0mrecord\u001b[0m \u001b[1;32min\u001b[0m \u001b[0mdataSorts\u001b[0m\u001b[1;33m]\u001b[0m\u001b[1;33m)\u001b[0m\u001b[1;33m\u001b[0m\u001b[0m\n\u001b[0;32m    169\u001b[0m     \u001b[0mprint\u001b[0m\u001b[1;33m(\u001b[0m\u001b[1;34m'I guess there was a big discription in one the cells, upload completed without them though'\u001b[0m\u001b[1;33m)\u001b[0m\u001b[1;33m\u001b[0m\u001b[0m\n",
      "\u001b[1;31mNameError\u001b[0m: name 'googleapiclient' is not defined"
     ]
    }
   ],
   "source": [
    "%run pullFeeds.py"
   ]
  },
  {
   "cell_type": "code",
   "execution_count": 2,
   "metadata": {},
   "outputs": [
    {
     "data": {
      "text/plain": [
       "2123"
      ]
     },
     "execution_count": 2,
     "metadata": {},
     "output_type": "execute_result"
    }
   ],
   "source": [
    "len(dataSorts)"
   ]
  },
  {
   "cell_type": "code",
   "execution_count": 27,
   "metadata": {},
   "outputs": [
    {
     "data": {
      "text/plain": [
       "162"
      ]
     },
     "execution_count": 27,
     "metadata": {},
     "output_type": "execute_result"
    }
   ],
   "source": [
    "len(dataSorts[2]['discription'])"
   ]
  },
  {
   "cell_type": "code",
   "execution_count": 7,
   "metadata": {},
   "outputs": [
    {
     "name": "stdout",
     "output_type": "stream",
     "text": [
      "complete\n"
     ]
    },
    {
     "ename": "HttpError",
     "evalue": "<HttpError 400 when requesting https://sheets.googleapis.com/v4/spreadsheets/1XiOZWw3S__3l20Fo0LzpMmnro9NYDulJtMko09KsZJQ/values/Sheet1%21A2?valueInputOption=RAW&alt=json returned \"Your input contains more than the maximum of 50000 characters in a single cell.\">",
     "output_type": "error",
     "traceback": [
      "\u001b[1;31m---------------------------------------------------------------------------\u001b[0m",
      "\u001b[1;31mHttpError\u001b[0m                                 Traceback (most recent call last)",
      "\u001b[1;32m<ipython-input-7-33ba5994dc9f>\u001b[0m in \u001b[0;36m<module>\u001b[1;34m()\u001b[0m\n\u001b[0;32m      1\u001b[0m \u001b[1;32mtry\u001b[0m\u001b[1;33m:\u001b[0m\u001b[1;33m\u001b[0m\u001b[0m\n\u001b[1;32m----> 2\u001b[1;33m     \u001b[0mwriteLinkData\u001b[0m\u001b[1;33m(\u001b[0m\u001b[1;33m[\u001b[0m\u001b[0msheetColumns\u001b[0m\u001b[1;33m(\u001b[0m\u001b[0mrecord\u001b[0m\u001b[1;33m)\u001b[0m \u001b[1;32mfor\u001b[0m \u001b[0mrecord\u001b[0m \u001b[1;32min\u001b[0m \u001b[0mdataSorts\u001b[0m\u001b[1;33m]\u001b[0m\u001b[1;33m)\u001b[0m\u001b[1;33m\u001b[0m\u001b[0m\n\u001b[0m\u001b[0;32m      3\u001b[0m \u001b[1;32mexcept\u001b[0m \u001b[0mHttpError\u001b[0m\u001b[1;33m:\u001b[0m\u001b[1;33m\u001b[0m\u001b[0m\n\u001b[0;32m      4\u001b[0m     \u001b[0mwriteLinkData\u001b[0m\u001b[1;33m(\u001b[0m\u001b[1;33m[\u001b[0m\u001b[0msheetColumns2ndAttempt\u001b[0m\u001b[1;33m(\u001b[0m\u001b[0mrecord\u001b[0m\u001b[1;33m)\u001b[0m \u001b[1;32mfor\u001b[0m \u001b[0mrecord\u001b[0m \u001b[1;32min\u001b[0m \u001b[0mdataSorts\u001b[0m\u001b[1;33m]\u001b[0m\u001b[1;33m)\u001b[0m\u001b[1;33m\u001b[0m\u001b[0m\n\u001b[0;32m      5\u001b[0m     \u001b[0mprint\u001b[0m\u001b[1;33m(\u001b[0m\u001b[1;34m'I guess there was a big discription in one the cells, upload completed without them though'\u001b[0m\u001b[1;33m)\u001b[0m\u001b[1;33m\u001b[0m\u001b[0m\n",
      "\u001b[1;32mC:\\Users\\Anthony\\scripts\\NFL-Data\\NFL-Parse\\pullFeeds.py\u001b[0m in \u001b[0;36mwriteLinkData\u001b[1;34m(dataColumns)\u001b[0m\n\u001b[0;32m     63\u001b[0m \u001b[1;33m\u001b[0m\u001b[0m\n\u001b[0;32m     64\u001b[0m     result = service.spreadsheets().values().update(spreadsheetId=spreadsheet_id, range=rangeName,\n\u001b[1;32m---> 65\u001b[1;33m                                                     valueInputOption=value_input_option, body=body).execute()\n\u001b[0m\u001b[0;32m     66\u001b[0m \u001b[1;33m\u001b[0m\u001b[0m\n\u001b[0;32m     67\u001b[0m     \u001b[1;32mreturn\u001b[0m \u001b[0mresult\u001b[0m\u001b[1;33m\u001b[0m\u001b[0m\n",
      "\u001b[1;32mC:\\Users\\Anthony\\Anaconda3\\lib\\site-packages\\oauth2client\\_helpers.py\u001b[0m in \u001b[0;36mpositional_wrapper\u001b[1;34m(*args, **kwargs)\u001b[0m\n\u001b[0;32m    131\u001b[0m                 \u001b[1;32melif\u001b[0m \u001b[0mpositional_parameters_enforcement\u001b[0m \u001b[1;33m==\u001b[0m \u001b[0mPOSITIONAL_WARNING\u001b[0m\u001b[1;33m:\u001b[0m\u001b[1;33m\u001b[0m\u001b[0m\n\u001b[0;32m    132\u001b[0m                     \u001b[0mlogger\u001b[0m\u001b[1;33m.\u001b[0m\u001b[0mwarning\u001b[0m\u001b[1;33m(\u001b[0m\u001b[0mmessage\u001b[0m\u001b[1;33m)\u001b[0m\u001b[1;33m\u001b[0m\u001b[0m\n\u001b[1;32m--> 133\u001b[1;33m             \u001b[1;32mreturn\u001b[0m \u001b[0mwrapped\u001b[0m\u001b[1;33m(\u001b[0m\u001b[1;33m*\u001b[0m\u001b[0margs\u001b[0m\u001b[1;33m,\u001b[0m \u001b[1;33m**\u001b[0m\u001b[0mkwargs\u001b[0m\u001b[1;33m)\u001b[0m\u001b[1;33m\u001b[0m\u001b[0m\n\u001b[0m\u001b[0;32m    134\u001b[0m         \u001b[1;32mreturn\u001b[0m \u001b[0mpositional_wrapper\u001b[0m\u001b[1;33m\u001b[0m\u001b[0m\n\u001b[0;32m    135\u001b[0m \u001b[1;33m\u001b[0m\u001b[0m\n",
      "\u001b[1;32mC:\\Users\\Anthony\\Anaconda3\\lib\\site-packages\\googleapiclient\\http.py\u001b[0m in \u001b[0;36mexecute\u001b[1;34m(self, http, num_retries)\u001b[0m\n\u001b[0;32m    838\u001b[0m       \u001b[0mcallback\u001b[0m\u001b[1;33m(\u001b[0m\u001b[0mresp\u001b[0m\u001b[1;33m)\u001b[0m\u001b[1;33m\u001b[0m\u001b[0m\n\u001b[0;32m    839\u001b[0m     \u001b[1;32mif\u001b[0m \u001b[0mresp\u001b[0m\u001b[1;33m.\u001b[0m\u001b[0mstatus\u001b[0m \u001b[1;33m>=\u001b[0m \u001b[1;36m300\u001b[0m\u001b[1;33m:\u001b[0m\u001b[1;33m\u001b[0m\u001b[0m\n\u001b[1;32m--> 840\u001b[1;33m       \u001b[1;32mraise\u001b[0m \u001b[0mHttpError\u001b[0m\u001b[1;33m(\u001b[0m\u001b[0mresp\u001b[0m\u001b[1;33m,\u001b[0m \u001b[0mcontent\u001b[0m\u001b[1;33m,\u001b[0m \u001b[0muri\u001b[0m\u001b[1;33m=\u001b[0m\u001b[0mself\u001b[0m\u001b[1;33m.\u001b[0m\u001b[0muri\u001b[0m\u001b[1;33m)\u001b[0m\u001b[1;33m\u001b[0m\u001b[0m\n\u001b[0m\u001b[0;32m    841\u001b[0m     \u001b[1;32mreturn\u001b[0m \u001b[0mself\u001b[0m\u001b[1;33m.\u001b[0m\u001b[0mpostproc\u001b[0m\u001b[1;33m(\u001b[0m\u001b[0mresp\u001b[0m\u001b[1;33m,\u001b[0m \u001b[0mcontent\u001b[0m\u001b[1;33m)\u001b[0m\u001b[1;33m\u001b[0m\u001b[0m\n\u001b[0;32m    842\u001b[0m \u001b[1;33m\u001b[0m\u001b[0m\n",
      "\u001b[1;31mHttpError\u001b[0m: <HttpError 400 when requesting https://sheets.googleapis.com/v4/spreadsheets/1XiOZWw3S__3l20Fo0LzpMmnro9NYDulJtMko09KsZJQ/values/Sheet1%21A2?valueInputOption=RAW&alt=json returned \"Your input contains more than the maximum of 50000 characters in a single cell.\">"
     ]
    }
   ],
   "source": [
    "try:\n",
    "    writeLinkData([sheetColumns(record) for record in dataSorts])\n",
    "except HttpError:\n",
    "    writeLinkData([sheetColumns2ndAttempt(record) for record in dataSorts])\n",
    "    print('I guess there was a big discription in one the cells, upload completed without them though')\n",
    "finally:\n",
    "    print('complete')"
   ]
  },
  {
   "cell_type": "code",
   "execution_count": 17,
   "metadata": {
    "collapsed": true
   },
   "outputs": [],
   "source": [
    "from googleapiclient.errors import HttpError"
   ]
  },
  {
   "cell_type": "code",
   "execution_count": 24,
   "metadata": {
    "collapsed": true
   },
   "outputs": [],
   "source": [
    "def sheetColumns2ndAttempt(record):\n",
    "    maxDiscriptionSize = 3000\n",
    "    try:\n",
    "        if len(record['discription']) > maxDiscriptionSize:\n",
    "            discription = ''\n",
    "            print(\"Discrption on \" + record['pubDate'])\n",
    "            print(\"from the \" + record['team'] + \" was too large\")\n",
    "        else:\n",
    "            discription = record['discription']\n",
    "    except TypeError:\n",
    "        discription = record['discription']\n",
    "        \n",
    "    if record['new']:\n",
    "        return [record['pubDate'], record['team'], record['title'], record['type'], record['link'], discription, record['creator'], 'new']\n",
    "    else:\n",
    "        return [record['pubDate'], record['team'], record['title'], record['type'], record['link'], discription, record['creator'], '']"
   ]
  },
  {
   "cell_type": "code",
   "execution_count": 25,
   "metadata": {},
   "outputs": [
    {
     "name": "stdout",
     "output_type": "stream",
     "text": [
      "Discrption on Thu, 31 Aug 2017 22:30:00 -0400\n",
      "from the Patriots was too large\n",
      "Discrption on Wed, 30 Aug 2017 15:13:08 GMT\n",
      "from the Broncos was too large\n",
      "Discrption on Wed, 30 Aug 2017 13:27:26 -0400\n",
      "from the Patriots was too large\n",
      "Discrption on Tue, 29 Aug 2017 20:36:23 -0400\n",
      "from the Patriots was too large\n",
      "Discrption on Tue, 29 Aug 2017 20:00:38 GMT\n",
      "from the Broncos was too large\n",
      "Discrption on Tue, 29 Aug 2017 19:50:00 GMT\n",
      "from the Broncos was too large\n",
      "Discrption on Tue, 29 Aug 2017 18:24:08 -0400\n",
      "from the Patriots was too large\n",
      "Discrption on Tue, 29 Aug 2017 17:10:18 -0400\n",
      "from the Patriots was too large\n",
      "Discrption on Tue, 29 Aug 2017 15:57:50 -0400\n",
      "from the Patriots was too large\n",
      "Discrption on Tue, 29 Aug 2017 15:56:18 GMT\n",
      "from the Broncos was too large\n",
      "Discrption on Tue, 29 Aug 2017 15:50:32 -0400\n",
      "from the Patriots was too large\n",
      "Discrption on Tue, 29 Aug 2017 10:43:44 -0400\n",
      "from the Patriots was too large\n",
      "Discrption on Tue, 29 Aug 2017 07:00:00 -0400\n",
      "from the Patriots was too large\n",
      "Discrption on Tue, 29 Aug 2017 04:00:00 -0400\n",
      "from the Patriots was too large\n",
      "Discrption on Mon, 28 Aug 2017 21:24:22 GMT\n",
      "from the Broncos was too large\n",
      "Discrption on Mon, 28 Aug 2017 19:49:18 GMT\n",
      "from the Broncos was too large\n",
      "Discrption on Mon, 28 Aug 2017 18:15:33 GMT\n",
      "from the Broncos was too large\n",
      "Discrption on Mon, 28 Aug 2017 17:20:51 GMT\n",
      "from the Broncos was too large\n",
      "Discrption on Mon, 28 Aug 2017 16:43:01 GMT\n",
      "from the Broncos was too large\n",
      "Discrption on Mon, 28 Aug 2017 16:21:08 GMT\n",
      "from the Broncos was too large\n",
      "Discrption on Mon, 28 Aug 2017 14:35:11 -0400\n",
      "from the Patriots was too large\n",
      "Discrption on Mon, 28 Aug 2017 13:43:37 -0400\n",
      "from the Patriots was too large\n",
      "Discrption on Sun, 27 Aug 2017 22:52:03 GMT\n",
      "from the Broncos was too large\n",
      "There were large discriptions in some of the cells which did cause some problems, upload completed with them removed from the table write\n",
      "complete\n"
     ]
    }
   ],
   "source": [
    "try:\n",
    "    writeLinkData([sheetColumns(record) for record in dataSorts])\n",
    "except HttpError:\n",
    "    writeLinkData([sheetColumns2ndAttempt(record) for record in dataSorts])\n",
    "    print('There were large discriptions in some of the cells which did cause some problems, upload completed with them removed from the table write')\n",
    "finally:\n",
    "    print('Complete')"
   ]
  },
  {
   "cell_type": "code",
   "execution_count": 14,
   "metadata": {},
   "outputs": [
    {
     "data": {
      "text/plain": [
       "{'creator': 'Kelly Baker',\n",
       " 'discription': 'The Buffalo Bills will host the Detroit Lions to conclude the preseason at New Era Field on Thursday, Aug. 31. Here’s a full breakdown of what you need to know.',\n",
       " 'link': 'http://www.buffalobills.com/news/article-1/Game-Day-Experience-Information-Preseason-Week-4/48fdb5c7-b0df-478c-ab9b-e6eb32041e1e',\n",
       " 'new': False,\n",
       " 'pubDate': 'Wed, 30 Aug 2017 17:25:00 GMT',\n",
       " 'team': 'Bills',\n",
       " 'title': 'Game Day Experience Information: Preseason Week 4',\n",
       " 'type': 'Latest Headlines'}"
      ]
     },
     "execution_count": 14,
     "metadata": {},
     "output_type": "execute_result"
    }
   ],
   "source": [
    "dataSorts[15]"
   ]
  },
  {
   "cell_type": "code",
   "execution_count": null,
   "metadata": {
    "collapsed": true
   },
   "outputs": [],
   "source": []
  }
 ],
 "metadata": {
  "kernelspec": {
   "display_name": "Python 3",
   "language": "python",
   "name": "python3"
  },
  "language_info": {
   "codemirror_mode": {
    "name": "ipython",
    "version": 3
   },
   "file_extension": ".py",
   "mimetype": "text/x-python",
   "name": "python",
   "nbconvert_exporter": "python",
   "pygments_lexer": "ipython3",
   "version": "3.6.1"
  }
 },
 "nbformat": 4,
 "nbformat_minor": 2
}
