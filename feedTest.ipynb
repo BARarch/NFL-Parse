{
 "cells": [
  {
   "cell_type": "code",
   "execution_count": 37,
   "metadata": {},
   "outputs": [],
   "source": [
    "import itemQuery as iq\n",
    "import articleParse as ap"
   ]
  },
  {
   "cell_type": "code",
   "execution_count": 38,
   "metadata": {},
   "outputs": [
    {
     "name": "stdout",
     "output_type": "stream",
     "text": [
      "PANE:    Scripts 21     Detected Posts 0\n",
      "ContentOn\n",
      "ContentOff\n",
      "ARTICLE: Scripts 21     Detected Posts 0\n"
     ]
    }
   ],
   "source": [
    "article = iq.getArticle('http://www.packers.com/news-and-events/article-player-feature/article-1/Joe-Callahan-back-in-his-comfort-zone-with-Packers/a5cc491f-d570-4286-af61-85076f6c47f3')\n",
    "\n",
    "paneParser = ap.paneContentParser()\n",
    "paneParser.feed(article)\n",
    "\n",
    "articleParser = ap.articleContentParser()\n",
    "articleParser.feed(article)"
   ]
  },
  {
   "cell_type": "code",
   "execution_count": 39,
   "metadata": {},
   "outputs": [
    {
     "data": {
      "text/plain": [
       "'    GREEN BAY – The rookie road was bumpy, filled with pitfalls and detours that rerouted  Joe Callahan  from Green Bay to New Orleans to Cleveland in a span of seven weeks.   The positive was experience. Callahan had the privilege of sharing quarterback rooms with  Aaron Rodgers  and Drew Brees. The drawback was the rapid change in scenery and endless game of musical playbooks.   The spinning finally ended in December when Callahan re-signed to the Packers’ practice squad prior to receiving a promotion to the active roster two weeks later.   When the year was over and Callahan had a chance to look back on his rookie campaign, one thing became abundantly clear to the 6-foot-1, 216-pound quarterback.   “It’s something I don’t want to go through again,” said Callahan on Sunday. “I didn’t like the feeling of being cut and bouncing around. Going into the offseason, I made sure I was in shape and doing everything I could to prepare myself. Once I got back here, I was ready to go.”   For all the upheaval, Callahan’s rookie season was quite astounding considering the 2015 Gagliardi Trophy winner – given to the best Division III player in the country – went from a relatively unheard of draft prospect to cracking the 53-man roster of three teams as a rookie.   The Packers raised many eyebrows when they signed Callahan shortly after the 2016 NFL Draft concluded. While Callahan posted record-breaking numbers at Wesley (Del.) College, there’s no guarantee D-III production will translate.   For Callahan, it did. With Aaron Rodgers playing sparingly in the preseason and  Brett Hundley  dealing with an ankle injury, Callahan completed 54-of-88 passes for 499 yards and three touchdowns in four exhibition games.   He not only beat out former North Carolina quarterback Marquise Williams for the Packers’ third-string job, Callahan also earned a spot on Green Bay’s opening roster.   As impressive as his rise was last summer, Callahan feels light years ahead of where he was a year ago. In the preseason opener against Philadelphia last Thursday, he completed 10-of-16 passes for 103 yards in a little more than a quarter of work.   Known for his mobility and resourcefulness, Callahan made perhaps his best pass on a 34-yard toss to first-year receiver  Max McCaffrey  on an extended play.   “Last year, you’re a rookie just trying to learn a whole new offense and have an idea of your reads,” Callahan said. “This year, I feel I have a solid grasp of the offense and it’s helped speed up my game, speed up my reads and my ability to make good decisions.   “I just feel more comfortable this year. I think that definitely helps in my progression.”   The other factor aiding his development has been working in the Packers’ quarterbacks room, where he has access to Rodgers, Hundley, quarterbacks coach Alex Van Pelt and even Head Coach Mike McCarthy at times.   The room is open-minded. Each day, suggestions are made, opinions are given and everybody has a say in what’s happening on film. While the pointers help, so does the competitiveness.   Callahan got a feel for how intense the competitive fire burns among the quarterbacks during last year’s weekly trivia competitions. It was only recently the final scores were tallied, with the QBs edging the offensive line for bragging rights.   “Oh yeah, it was serious,” Callahan said. “We were definitely competing. Everyone had their role and we’re just happy the quarterbacks got to take home the win and showboat a little bit, rub it in.”   Like last year, Callahan again faces competition for the No. 3 job. This year, it comes in the form of former BYU quarterback  Taysom Hill , who completed 5-of-6 passes for 69 yards and a touchdown in the 24-9 win over the Eagles.   With Rodgers resting, the three backup QBs threw for 262 yards and two touchdowns, completing passes to 14 different receivers.   “There’s a lot of talent in the quarterback room,” receiver  Jeff Janis  said. “Those guys continue to impress us in practice, too. It’s not just in the games. What they can do in practice is something that’s pretty special in their room.”   Competition comes naturally in training camp. Callahan knows it’s every NFL team’s prerogative to bring in guys to compete for jobs every season.   The biggest thing Callahan has working in his favor – other than the ability to create out of the pocket – is his composure. While the jump from Wesley’s 2,500-seat Scott D. Miller Stadium to Lambeau Field might intimidate some, it hasn’t flustered Callahan.   He’s flourished under the spotlight.   “There was definitely a couple moments last year that it dawns on you that you’re in the NFL and you’re working with some of your favorite players you grew up watching,” Callahan said. “A couple moments here or there, but other than that, it’s work and these are my friends.   “It’s not something I think of too often. … I think (my parents) have those moments a little more often.”   '"
      ]
     },
     "execution_count": 39,
     "metadata": {},
     "output_type": "execute_result"
    }
   ],
   "source": [
    "articleParser.getContent()"
   ]
  },
  {
   "cell_type": "code",
   "execution_count": 40,
   "metadata": {},
   "outputs": [
    {
     "data": {
      "text/plain": [
       "''"
      ]
     },
     "execution_count": 40,
     "metadata": {},
     "output_type": "execute_result"
    }
   ],
   "source": [
    "paneParser.getContent()"
   ]
  },
  {
   "cell_type": "code",
   "execution_count": null,
   "metadata": {
    "collapsed": true
   },
   "outputs": [],
   "source": []
  }
 ],
 "metadata": {
  "kernelspec": {
   "display_name": "Python 3",
   "language": "python",
   "name": "python3"
  },
  "language_info": {
   "codemirror_mode": {
    "name": "ipython",
    "version": 3
   },
   "file_extension": ".py",
   "mimetype": "text/x-python",
   "name": "python",
   "nbconvert_exporter": "python",
   "pygments_lexer": "ipython3",
   "version": "3.6.1"
  }
 },
 "nbformat": 4,
 "nbformat_minor": 2
}
