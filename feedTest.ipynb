{
 "cells": [
  {
   "cell_type": "code",
   "execution_count": 41,
   "metadata": {},
   "outputs": [],
   "source": [
    "import itemQuery as iq\n",
    "import articleParse as ap"
   ]
  },
  {
   "cell_type": "code",
   "execution_count": 42,
   "metadata": {},
   "outputs": [
    {
     "name": "stdout",
     "output_type": "stream",
     "text": [
      "PANE:    Scripts 21     Detected Posts 0\n",
      "ContentOn\n",
      "ContentOff\n",
      "ARTICLE: Scripts 21     Detected Posts 0\n"
     ]
    }
   ],
   "source": [
    "article = iq.getArticle('http://www.packers.com/news-and-events/article-player-feature/article-1/Joe-Callahan-back-in-his-comfort-zone-with-Packers/a5cc491f-d570-4286-af61-85076f6c47f3')\n",
    "\n",
    "paneParser = ap.paneContentParser()\n",
    "paneParser.feed(article)\n",
    "\n",
    "articleParser = ap.articleContentParser()\n",
    "articleParser.feed(article)"
   ]
  },
  {
   "cell_type": "code",
   "execution_count": 43,
   "metadata": {},
   "outputs": [
    {
     "data": {
      "text/plain": [
       "'    GREEN BAY – The rookie road was bumpy, filled with pitfalls and detours that rerouted  Joe Callahan  from Green Bay to New Orleans to Cleveland in a span of seven weeks.   The positive was experience. Callahan had the privilege of sharing quarterback rooms with  Aaron Rodgers  and Drew Brees. The drawback was the rapid change in scenery and endless game of musical playbooks.   The spinning finally ended in December when Callahan re-signed to the Packers’ practice squad prior to receiving a promotion to the active roster two weeks later.   When the year was over and Callahan had a chance to look back on his rookie campaign, one thing became abundantly clear to the 6-foot-1, 216-pound quarterback.   “It’s something I don’t want to go through again,” said Callahan on Sunday. “I didn’t like the feeling of being cut and bouncing around. Going into the offseason, I made sure I was in shape and doing everything I could to prepare myself. Once I got back here, I was ready to go.”   For all the upheaval, Callahan’s rookie season was quite astounding considering the 2015 Gagliardi Trophy winner – given to the best Division III player in the country – went from a relatively unheard of draft prospect to cracking the 53-man roster of three teams as a rookie.   The Packers raised many eyebrows when they signed Callahan shortly after the 2016 NFL Draft concluded. While Callahan posted record-breaking numbers at Wesley (Del.) College, there’s no guarantee D-III production will translate.   For Callahan, it did. With Aaron Rodgers playing sparingly in the preseason and  Brett Hundley  dealing with an ankle injury, Callahan completed 54-of-88 passes for 499 yards and three touchdowns in four exhibition games.   He not only beat out former North Carolina quarterback Marquise Williams for the Packers’ third-string job, Callahan also earned a spot on Green Bay’s opening roster.   As impressive as his rise was last summer, Callahan feels light years ahead of where he was a year ago. In the preseason opener against Philadelphia last Thursday, he completed 10-of-16 passes for 103 yards in a little more than a quarter of work.   Known for his mobility and resourcefulness, Callahan made perhaps his best pass on a 34-yard toss to first-year receiver  Max McCaffrey  on an extended play.   “Last year, you’re a rookie just trying to learn a whole new offense and have an idea of your reads,” Callahan said. “This year, I feel I have a solid grasp of the offense and it’s helped speed up my game, speed up my reads and my ability to make good decisions.   “I just feel more comfortable this year. I think that definitely helps in my progression.”   The other factor aiding his development has been working in the Packers’ quarterbacks room, where he has access to Rodgers, Hundley, quarterbacks coach Alex Van Pelt and even Head Coach Mike McCarthy at times.   The room is open-minded. Each day, suggestions are made, opinions are given and everybody has a say in what’s happening on film. While the pointers help, so does the competitiveness.   Callahan got a feel for how intense the competitive fire burns among the quarterbacks during last year’s weekly trivia competitions. It was only recently the final scores were tallied, with the QBs edging the offensive line for bragging rights.   “Oh yeah, it was serious,” Callahan said. “We were definitely competing. Everyone had their role and we’re just happy the quarterbacks got to take home the win and showboat a little bit, rub it in.”   Like last year, Callahan again faces competition for the No. 3 job. This year, it comes in the form of former BYU quarterback  Taysom Hill , who completed 5-of-6 passes for 69 yards and a touchdown in the 24-9 win over the Eagles.   With Rodgers resting, the three backup QBs threw for 262 yards and two touchdowns, completing passes to 14 different receivers.   “There’s a lot of talent in the quarterback room,” receiver  Jeff Janis  said. “Those guys continue to impress us in practice, too. It’s not just in the games. What they can do in practice is something that’s pretty special in their room.”   Competition comes naturally in training camp. Callahan knows it’s every NFL team’s prerogative to bring in guys to compete for jobs every season.   The biggest thing Callahan has working in his favor – other than the ability to create out of the pocket – is his composure. While the jump from Wesley’s 2,500-seat Scott D. Miller Stadium to Lambeau Field might intimidate some, it hasn’t flustered Callahan.   He’s flourished under the spotlight.   “There was definitely a couple moments last year that it dawns on you that you’re in the NFL and you’re working with some of your favorite players you grew up watching,” Callahan said. “A couple moments here or there, but other than that, it’s work and these are my friends.   “It’s not something I think of too often. … I think (my parents) have those moments a little more often.”   '"
      ]
     },
     "execution_count": 43,
     "metadata": {},
     "output_type": "execute_result"
    }
   ],
   "source": [
    "articleParser.getContent()"
   ]
  },
  {
   "cell_type": "code",
   "execution_count": 44,
   "metadata": {},
   "outputs": [
    {
     "data": {
      "text/plain": [
       "''"
      ]
     },
     "execution_count": 44,
     "metadata": {},
     "output_type": "execute_result"
    }
   ],
   "source": [
    "paneParser.getContent()"
   ]
  },
  {
   "cell_type": "code",
   "execution_count": 45,
   "metadata": {},
   "outputs": [
    {
     "data": {
      "text/plain": [
       "0"
      ]
     },
     "execution_count": 45,
     "metadata": {},
     "output_type": "execute_result"
    }
   ],
   "source": [
    "len(paneParser.getContent())"
   ]
  },
  {
   "cell_type": "code",
   "execution_count": 46,
   "metadata": {
    "collapsed": true
   },
   "outputs": [],
   "source": [
    "%run modelInit.py"
   ]
  },
  {
   "cell_type": "code",
   "execution_count": 47,
   "metadata": {
    "collapsed": true
   },
   "outputs": [],
   "source": [
    "def sheetPull():\n",
    "    \"\"\"Google Sheets API Code.\n",
    "    Pulls randomly generated links from testing sheet\n",
    "    https://docs.google.com/spreadsheets/d/1ylpSMZZ7YEQ-GqaKGZC9UGPiseYObk-L14-PexVjbdM/edit#gid=0\n",
    "    \"\"\"\n",
    "    credentials = get_credentials()\n",
    "    http = credentials.authorize(httplib2.Http())\n",
    "    discoveryUrl = ('https://sheets.googleapis.com/$discovery/rest?'\n",
    "                    'version=v4')\n",
    "    service = discovery.build('sheets', 'v4', http=http,\n",
    "                              discoveryServiceUrl=discoveryUrl)\n",
    "\n",
    "    #specify sheetID and range\n",
    "    spreadsheetId = '1ylpSMZZ7YEQ-GqaKGZC9UGPiseYObk-L14-PexVjbdM'\n",
    "    rangeName = 'Sheet1!B5:B75'\n",
    "    result = service.spreadsheets().values().get(\n",
    "        spreadsheetId=spreadsheetId, range=rangeName).execute()\n",
    "    values = result.get('values', [])\n",
    "\n",
    "    if not values:\n",
    "        print('No data found.')\n",
    "    else:\n",
    "        print('Done')\n",
    "        #for row in values:\n",
    "            # Print columns A and E, which correspond to indices 0 and 4.\n",
    "            #print('%s, %s' % (row[0], row[3]))\n",
    "    return values"
   ]
  },
  {
   "cell_type": "code",
   "execution_count": null,
   "metadata": {
    "collapsed": true
   },
   "outputs": [],
   "source": [
    "article = iq.getArticle(linkTo')\n",
    "\n",
    "paneParser = ap.paneContentParser()\n",
    "paneParser.feed(article)\n",
    "\n",
    "articleParser = ap.articleContentParser()\n",
    "articleParser.feed(article)\n",
    "                        \n",
    "    "
   ]
  },
  {
   "cell_type": "code",
   "execution_count": 48,
   "metadata": {},
   "outputs": [
    {
     "name": "stdout",
     "output_type": "stream",
     "text": [
      "Done\n"
     ]
    }
   ],
   "source": [
    "links = sheetPull()"
   ]
  },
  {
   "cell_type": "code",
   "execution_count": 63,
   "metadata": {
    "collapsed": true
   },
   "outputs": [],
   "source": [
    "def articleTest(link):\n",
    "    article = iq.getArticle(link[0])\n",
    "    articleParser = ap.articleContentParser()\n",
    "    articleParser.feed(article)\n",
    "    \n",
    "    return articleParser.getContent()"
   ]
  },
  {
   "cell_type": "code",
   "execution_count": 64,
   "metadata": {
    "collapsed": true
   },
   "outputs": [],
   "source": [
    "def paneTest(link):\n",
    "    article = iq.getArticle(link[0])\n",
    "    paneParser = ap.paneContentParser()\n",
    "    paneParser.feed(article)\n",
    "    \n",
    "    return paneParser.getContent()"
   ]
  },
  {
   "cell_type": "code",
   "execution_count": 50,
   "metadata": {
    "collapsed": true
   },
   "outputs": [],
   "source": [
    "def linkGenerator():\n",
    "    linkgen = sheetPull()\n",
    "    for link in linkgen:\n",
    "        yield link"
   ]
  },
  {
   "cell_type": "code",
   "execution_count": 53,
   "metadata": {},
   "outputs": [
    {
     "data": {
      "text/plain": [
       "<generator object linkGenerator at 0x0000025243ACE728>"
      ]
     },
     "execution_count": 53,
     "metadata": {},
     "output_type": "execute_result"
    }
   ],
   "source": [
    "linkGenerator()"
   ]
  },
  {
   "cell_type": "code",
   "execution_count": 57,
   "metadata": {},
   "outputs": [
    {
     "name": "stdout",
     "output_type": "stream",
     "text": [
      "Done\n"
     ]
    },
    {
     "data": {
      "text/plain": [
       "['http://www.baltimoreravens.com/news/article-1/More-Explosive-Matthew-Judon-Is-Becoming-a-Complete-Player/8f181c1f-5a8a-479d-a990-b47583c124bf']"
      ]
     },
     "execution_count": 57,
     "metadata": {},
     "output_type": "execute_result"
    }
   ],
   "source": [
    "next(linkGenerator())"
   ]
  },
  {
   "cell_type": "code",
   "execution_count": 58,
   "metadata": {
    "collapsed": true
   },
   "outputs": [],
   "source": [
    "theGen = linkGenerator()"
   ]
  },
  {
   "cell_type": "code",
   "execution_count": 59,
   "metadata": {},
   "outputs": [
    {
     "name": "stdout",
     "output_type": "stream",
     "text": [
      "Done\n"
     ]
    },
    {
     "data": {
      "text/plain": [
       "['http://www.baltimoreravens.com/news/article-1/More-Explosive-Matthew-Judon-Is-Becoming-a-Complete-Player/8f181c1f-5a8a-479d-a990-b47583c124bf']"
      ]
     },
     "execution_count": 59,
     "metadata": {},
     "output_type": "execute_result"
    }
   ],
   "source": [
    "next(theGen)"
   ]
  },
  {
   "cell_type": "code",
   "execution_count": 186,
   "metadata": {},
   "outputs": [
    {
     "ename": "StopIteration",
     "evalue": "",
     "output_type": "error",
     "traceback": [
      "\u001b[1;31m---------------------------------------------------------------------------\u001b[0m",
      "\u001b[1;31mStopIteration\u001b[0m                             Traceback (most recent call last)",
      "\u001b[1;32m<ipython-input-186-d1bdcfceca16>\u001b[0m in \u001b[0;36m<module>\u001b[1;34m()\u001b[0m\n\u001b[1;32m----> 1\u001b[1;33m \u001b[0mlinkTo\u001b[0m \u001b[1;33m=\u001b[0m \u001b[0mnext\u001b[0m\u001b[1;33m(\u001b[0m\u001b[0mtheGen\u001b[0m\u001b[1;33m)\u001b[0m\u001b[1;33m\u001b[0m\u001b[0m\n\u001b[0m\u001b[0;32m      2\u001b[0m \u001b[1;32mtry\u001b[0m\u001b[1;33m:\u001b[0m\u001b[1;33m\u001b[0m\u001b[0m\n\u001b[0;32m      3\u001b[0m     \u001b[0mprint\u001b[0m\u001b[1;33m(\u001b[0m\u001b[0mlinkTo\u001b[0m\u001b[1;33m[\u001b[0m\u001b[1;36m0\u001b[0m\u001b[1;33m]\u001b[0m\u001b[1;33m)\u001b[0m\u001b[1;33m\u001b[0m\u001b[0m\n\u001b[0;32m      4\u001b[0m \u001b[1;32mexcept\u001b[0m \u001b[0mIndexError\u001b[0m\u001b[1;33m:\u001b[0m\u001b[1;33m\u001b[0m\u001b[0m\n\u001b[0;32m      5\u001b[0m     \u001b[0mspace\u001b[0m \u001b[1;33m=\u001b[0m \u001b[1;36m0\u001b[0m\u001b[1;33m\u001b[0m\u001b[0m\n",
      "\u001b[1;31mStopIteration\u001b[0m: "
     ]
    }
   ],
   "source": [
    "linkTo = next(theGen)\n",
    "try:\n",
    "    print(linkTo[0])\n",
    "except IndexError:\n",
    "    space = 0\n",
    "    while not linkTo and space < 10:\n",
    "        linkTo = next(theGen)\n",
    "        space += 1\n",
    "    if space == 10:\n",
    "        print(\"Out of Articles\")\n",
    "    print(linkTo[0])\n",
    "        "
   ]
  },
  {
   "cell_type": "code",
   "execution_count": 184,
   "metadata": {},
   "outputs": [
    {
     "name": "stdout",
     "output_type": "stream",
     "text": [
      "ContentOn\n",
      "ContentOff\n",
      "ARTICLE: Scripts 26     Detected Posts 1\n"
     ]
    },
    {
     "data": {
      "text/plain": [
       "\"  Less than 48 hours after playing in their first preseason game, the Rams were back on the practice field to finish up their last week of training camp at UC Irvine. Following this Saturday’s matchup against the Raiders, Los Angeles will resume training at its regular-season facility at Cal Lutheran.  In this afternoon’s non-padded session, much of the practice was focused on unscripted situational drills and technique. After fumbling the ball six times in the Rams' win over the Cowboys, ball security was one of the main points of emphasis on offense. While on defense, the team centered the majority of its drills on man-coverage and pass deflections.  Here’s everything you need to know from Monday’s practice:   TOP TAKEAWAYS   1.\\xa0\\xa0 \\xa0Ball security as a point of focus \\u2028 Day 13 of training camp featured a new portion of practice — ball security drills. While preseason football can sometimes be sloppy as teams work out kinks in their systems, Saturday’s fumbles left much to be desired from the Rams’ offense.  Although the preseason opener was Los Angeles’ first taste of live tackling all year, head coach Sean McVay said taking care of the football would be a point of emphasis moving forward. “When you are able to get tackled with live hits, [the] ball gets a little bit loose when you’re not as conscientious about it,” McVay said after Saturday’s win. “Those are things that I as a coach have to do a better job of finding ways to creatively implement a more structured environment, so that it can be something that we do a better job with.” Today, the team stressed controlling the ball through a couple of drills aimed at the receivers, tight ends, and running backs. The staff hit the players with a variety of dummies, would-be blocks, and other distractions in an effort to promote ball protection as a necessary skill. The running backs and quarterbacks also participated in exchange drills aimed at reducing the number of fumbles and turnovers.    2.\\xa0\\xa0 \\xa0Working in Watkins at wide receiver \\u2028 Wide receiver Sammy Watkins made his Rams camp debut this afternoon, taking the field for the first time as a Ram, since he was traded from the Bills last Friday.  The receiver did not fully participate in today’s practice, spending the majority of his time watching from the sidelines. But he did see some action during the position drills and one-on-one sessions. McVay said the staff wanted “to be mindful of his workload” in this first practice, especially with all Watkins has had to deal with in the last week.  “He was going to go through individual, he’s getting some routes right now just to get some timing and get a feel for what’s going on,” McVay said. “But, with all the traveling that he’s done [and] a little jet lag, we’ll start to work him into practice starting tomorrow.” Although Watkins has yet to fully familiarize himself with the Rams’ offense, he is still expected to play in the team’s second preseason game against the Raiders. After practice, the Rams’ newest wide receiver said that it may take him about \\xa0“a week and a half to get everything dissected and master the playbook,” but that he will be prepared for “whatever the coaches have for [him]” come Saturday. “I’m just trying to help win games and that’s the main thing. Whatever the coach needs me to do, whatever position, I’m just out here trying to help, learn the playbook and get acclimated,” Watkins said. While with the Bills, Watkins had 153 career receptions, 2,459 receiving yards and 17 scores in 37 games. Once fully integrated into the Rams’ offense he is expected to provide the team with a dynamic, vertical threat.   3.\\xa0\\xa0 \\xa0Defense impresses \\xa0\\u2028 After a strong showing in Saturday’s preseason opener, the Rams’ defense under Wade Phillips was on full display once again this afternoon. Though Day 13 was a non-padded session that did not feature any live tackling, the secondary was very impressive throughout the afternoon, recording three interceptions and a slew of pass deflections. The defensive backs group started off strong in the one-on-ones with cornerback Mike Jordan rising high into the air to force an incomplete pass, and corner Dominique Hatfield beating wide receiver Brandon Shippen for a great deflection on a would-be touchdown.  Cornerback Troy Hill also raised some eyebrows in today’s session. Hill began practice with an impressive deflection during red-zone drills, knocking the ball out of its path on a pass from quarterback Jared Goff to wide receiver Justin Thomas. A few minutes later, the corner recorded the first interception of the day, picking off Goff in the endzone. Later this afternoon, cornerback Kevin Peterson had a nice read, intercepting a pass from Goff and taking it to the house for a pick six.  “I thought it was a great job by the defense forcing a lot of turnovers. They did a great job creating pressure,” McVay said. “Certainly, we can always try to help put our guys in good positions, but I credit the defense for getting their hands on some balls and they make it tough on the offense.”   FIELD-LEVEL OBSERVATIONS   •\\xa0\\xa0 \\xa0Not participating in today’s practice: cornerback Nickell Robey-Coleman, outside linebacker Ejuan Price, and wide receiver Nelson Spruce. Linebacker Samson Ebukam and wide receiver Tavon Austin remained out with injuries. \\u2028   •\\xa0\\xa0 \\xa0Earlier today tight end Johnny Mundt was taken off of the PUP list after passing his physical. This afternoon was Mundt’s first active practice of training camp. \\u2028   •\\xa0\\xa0 \\xa0Running back Todd Gurley had some exciting plays today, both in the run and passing game. During the 11-on-11 drills he cut across the field for a first down play along the outside and also recorded a nice one-handed catch in the end zone over middle linebacker Alec Ogletree during one-on-ones. \\u2028   •\\xa0\\xa0 \\xa0Wide receiver Cooper Kupp also had a solid practice today. Both Goff and quarterback Sean Mannion connected with Kupp on a variety of different routes, showcasing off the receiver’s good hands and quick speed. \\u2028   •\\xa0\\xa0 \\xa0Tight end Temarrick Hemingway had two great grabs from Mannion during the unscripted portion of Monday’s practice. The quarterback threaded the needle on a touchdown pass to Hemingway, before recording another completion on the following drive for a first down. \\u2028   •\\xa0\\xa0 \\xa0The entire team, McVay included, participated in wind sprints at the end of the day to cap off Day 13 of practice.  PLAY OF THE DAY   Today’s play of the day came from tight end Gerald Everett. The Rams’ second-round draft pick out of South Alabama has shown a lot of development throughout the course of training camp. And while he recorded a series of catches in this afternoon’s practice, there was one particular grab that stood out.  During the team’s red zone drills, Everett jumped above his defender, Isaiah Johnson, to snatch the touchdown on a fade route from Goff, much to the delight of both his coaches and the nearby crowd.        \\xa0 PRESS POINTS   After practice Watkins spoke to the media about reuniting with his former teammate Robert Woods. Catch up on his most interesting points from Day 13 and watch his full press conference below:  SAMMY WATKINS: On if he is excited to play with WR Robert Woods again: “Definitely excited. I never thought I was going to be playing with him again. He’s a great leader. I had him for three years and he just helped my game out mentally. He’s a great guy to be around because every day he comes out and works. Even days when I didn’t want to work I’ve seen him working so it’s like we both feed off of each other.”   \""
      ]
     },
     "execution_count": 184,
     "metadata": {},
     "output_type": "execute_result"
    }
   ],
   "source": [
    "articleTest(linkTo)"
   ]
  },
  {
   "cell_type": "code",
   "execution_count": 174,
   "metadata": {},
   "outputs": [
    {
     "name": "stdout",
     "output_type": "stream",
     "text": [
      "PANE:    Scripts 28     Detected Posts 0\n"
     ]
    },
    {
     "data": {
      "text/plain": [
       "''"
      ]
     },
     "execution_count": 174,
     "metadata": {},
     "output_type": "execute_result"
    }
   ],
   "source": [
    "paneTest(linkTo)"
   ]
  },
  {
   "cell_type": "code",
   "execution_count": null,
   "metadata": {
    "collapsed": true
   },
   "outputs": [],
   "source": []
  },
  {
   "cell_type": "code",
   "execution_count": null,
   "metadata": {
    "collapsed": true
   },
   "outputs": [],
   "source": []
  }
 ],
 "metadata": {
  "kernelspec": {
   "display_name": "Python 3",
   "language": "python",
   "name": "python3"
  },
  "language_info": {
   "codemirror_mode": {
    "name": "ipython",
    "version": 3
   },
   "file_extension": ".py",
   "mimetype": "text/x-python",
   "name": "python",
   "nbconvert_exporter": "python",
   "pygments_lexer": "ipython3",
   "version": "3.6.1"
  }
 },
 "nbformat": 4,
 "nbformat_minor": 2
}
