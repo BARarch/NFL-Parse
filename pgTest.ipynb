{
 "cells": [
  {
   "cell_type": "code",
   "execution_count": 1,
   "metadata": {},
   "outputs": [
    {
     "ename": "ModuleNotFoundError",
     "evalue": "No module named 'config'",
     "output_type": "error",
     "traceback": [
      "\u001b[1;31m---------------------------------------------------------------------------\u001b[0m",
      "\u001b[1;31mModuleNotFoundError\u001b[0m                       Traceback (most recent call last)",
      "\u001b[1;32m<ipython-input-1-fc3ab75abb5a>\u001b[0m in \u001b[0;36m<module>\u001b[1;34m()\u001b[0m\n\u001b[0;32m      1\u001b[0m \u001b[1;32mimport\u001b[0m \u001b[0mpsycopg2\u001b[0m\u001b[1;33m\u001b[0m\u001b[0m\n\u001b[1;32m----> 2\u001b[1;33m \u001b[1;32mfrom\u001b[0m \u001b[0mconfig\u001b[0m \u001b[1;32mimport\u001b[0m \u001b[0mconfig\u001b[0m\u001b[1;33m\u001b[0m\u001b[0m\n\u001b[0m\u001b[0;32m      3\u001b[0m \u001b[1;33m\u001b[0m\u001b[0m\n\u001b[0;32m      4\u001b[0m \u001b[1;33m\u001b[0m\u001b[0m\n\u001b[0;32m      5\u001b[0m \u001b[1;32mdef\u001b[0m \u001b[0mcreate_tables\u001b[0m\u001b[1;33m(\u001b[0m\u001b[1;33m)\u001b[0m\u001b[1;33m:\u001b[0m\u001b[1;33m\u001b[0m\u001b[0m\n",
      "\u001b[1;31mModuleNotFoundError\u001b[0m: No module named 'config'"
     ]
    }
   ],
   "source": [
    "import psycopg2\n",
    "from config import config\n",
    " \n",
    " \n",
    "def create_tables():\n",
    "    \"\"\" create tables in the PostgreSQL database\"\"\"\n",
    "    commands = (\n",
    "        \"\"\"\n",
    "        CREATE TABLE vendors (\n",
    "            vendor_id SERIAL PRIMARY KEY,\n",
    "            vendor_name VARCHAR(255) NOT NULL\n",
    "        )\n",
    "        \"\"\",\n",
    "        \"\"\" CREATE TABLE parts (\n",
    "                part_id SERIAL PRIMARY KEY,\n",
    "                part_name VARCHAR(255) NOT NULL\n",
    "                )\n",
    "        \"\"\",\n",
    "        \"\"\"\n",
    "        CREATE TABLE part_drawings (\n",
    "                part_id INTEGER PRIMARY KEY,\n",
    "                file_extension VARCHAR(5) NOT NULL,\n",
    "                drawing_data BYTEA NOT NULL,\n",
    "                FOREIGN KEY (part_id)\n",
    "                REFERENCES parts (part_id)\n",
    "                ON UPDATE CASCADE ON DELETE CASCADE\n",
    "        )\n",
    "        \"\"\",\n",
    "        \"\"\"\n",
    "        CREATE TABLE vendor_parts (\n",
    "                vendor_id INTEGER NOT NULL,\n",
    "                part_id INTEGER NOT NULL,\n",
    "                PRIMARY KEY (vendor_id , part_id),\n",
    "                FOREIGN KEY (vendor_id)\n",
    "                    REFERENCES vendors (vendor_id)\n",
    "                    ON UPDATE CASCADE ON DELETE CASCADE,\n",
    "                FOREIGN KEY (part_id)\n",
    "                    REFERENCES parts (part_id)\n",
    "                    ON UPDATE CASCADE ON DELETE CASCADE\n",
    "        )\n",
    "        \"\"\")\n",
    "    conn = None\n",
    "    try:\n",
    "        # read the connection parameters\n",
    "        params = config()\n",
    "        # connect to the PostgreSQL server\n",
    "        conn = psycopg2.connect(**params)\n",
    "        cur = conn.cursor()\n",
    "        # create table one by one\n",
    "        for command in commands:\n",
    "            cur.execute(command)\n",
    "        # close communication with the PostgreSQL database server\n",
    "        cur.close()\n",
    "        # commit the changes\n",
    "        conn.commit()\n",
    "    except (Exception, psycopg2.DatabaseError) as error:\n",
    "        print(error)\n",
    "    finally:\n",
    "        if conn is not None:\n",
    "            conn.close()\n",
    " \n",
    " \n",
    "if __name__ == '__main__':\n",
    "    create_tables()"
   ]
  },
  {
   "cell_type": "code",
   "execution_count": 4,
   "metadata": {},
   "outputs": [
    {
     "name": "stdout",
     "output_type": "stream",
     "text": [
      "I am unable to connect to the database\n"
     ]
    }
   ],
   "source": [
    "import psycopg2\n",
    "\n",
    "try:\n",
    "    conn = psycopg2.connect(\"dbname='template1' user='dbuser' host='localhost' password='dbpass'\")\n",
    "except:\n",
    "    print (\"I am unable to connect to the database\")"
   ]
  },
  {
   "cell_type": "code",
   "execution_count": null,
   "metadata": {
    "collapsed": true
   },
   "outputs": [],
   "source": []
  }
 ],
 "metadata": {
  "kernelspec": {
   "display_name": "Python 3",
   "language": "python",
   "name": "python3"
  },
  "language_info": {
   "codemirror_mode": {
    "name": "ipython",
    "version": 3
   },
   "file_extension": ".py",
   "mimetype": "text/x-python",
   "name": "python",
   "nbconvert_exporter": "python",
   "pygments_lexer": "ipython3",
   "version": "3.6.1"
  }
 },
 "nbformat": 4,
 "nbformat_minor": 2
}
