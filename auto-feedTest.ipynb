{
 "cells": [
  {
   "cell_type": "code",
   "execution_count": 1,
   "metadata": {
    "collapsed": true
   },
   "outputs": [],
   "source": [
    "import itemQuery as iq\n",
    "import articleParse as ap\n",
    "from timeit import default_timer as timer"
   ]
  },
  {
   "cell_type": "code",
   "execution_count": 2,
   "metadata": {
    "collapsed": true
   },
   "outputs": [],
   "source": [
    "%run modelInit.py"
   ]
  },
  {
   "cell_type": "code",
   "execution_count": 21,
   "metadata": {
    "collapsed": true
   },
   "outputs": [],
   "source": [
    "def sheetPull():\n",
    "    \"\"\"Google Sheets API Code.\n",
    "    Pulls randomly generated links from testing sheet\n",
    "    https://docs.google.com/spreadsheets/d/1ylpSMZZ7YEQ-GqaKGZC9UGPiseYObk-L14-PexVjbdM/edit#gid=0\n",
    "    \"\"\"\n",
    "    credentials = get_credentials()\n",
    "    http = credentials.authorize(httplib2.Http())\n",
    "    discoveryUrl = ('https://sheets.googleapis.com/$discovery/rest?'\n",
    "                    'version=v4')\n",
    "    service = discovery.build('sheets', 'v4', http=http,\n",
    "                              discoveryServiceUrl=discoveryUrl)\n",
    "\n",
    "    #specify sheetID and range\n",
    "    spreadsheetId = '1ylpSMZZ7YEQ-GqaKGZC9UGPiseYObk-L14-PexVjbdM'\n",
    "    rangeName = 'Sheet1!B5:B75'\n",
    "    result = service.spreadsheets().values().get(\n",
    "        spreadsheetId=spreadsheetId, range=rangeName).execute()\n",
    "    values = result.get('values', [])\n",
    "\n",
    "    if not values:\n",
    "        print('No data found.')\n",
    "    else:\n",
    "        print('Done')\n",
    "        #for row in values:\n",
    "            # Print columns A and E, which correspond to indices 0 and 4.\n",
    "            #print('%s, %s' % (row[0], row[3]))\n",
    "    return values"
   ]
  },
  {
   "cell_type": "code",
   "execution_count": 20,
   "metadata": {
    "collapsed": true
   },
   "outputs": [],
   "source": [
    "def writeTestResultRow(rowNum, articleVal, paneVal):\n",
    "    \"\"\"Google Sheets API Code.\n",
    "\n",
    "    Writes a single row of test result data for parser tests. Each row has a link that is tested for\n",
    "    companibility with two parsers.  Parsers that collect data are compatible and are marked with a\n",
    "    YES under the respective colunm.  Parsers that are not compatible are marked with a NO under \n",
    "    respective colunms.\n",
    "    https://docs.google.com/spreadsheets/d/1ylpSMZZ7YEQ-GqaKGZC9UGPiseYObk-L14-PexVjbdM/edit#gid=0\n",
    "    \"\"\"\n",
    "    credentials = get_credentials()\n",
    "    http = credentials.authorize(httplib2.Http())\n",
    "    discoveryUrl = ('https://sheets.googleapis.com/$discovery/rest?'\n",
    "                    'version=v4')\n",
    "    service = discovery.build('sheets', 'v4', http=http,\n",
    "                              discoveryServiceUrl=discoveryUrl)\n",
    "\n",
    "    spreadsheet_id = '1ylpSMZZ7YEQ-GqaKGZC9UGPiseYObk-L14-PexVjbdM'\n",
    "    value_input_option = 'RAW'\n",
    "    rangeName = 'Sheet1!C' + str(rowNum + 5)\n",
    "    values = [[articleVal, paneVal]]\n",
    "    body = {\n",
    "          'values': values\n",
    "    }\n",
    "    \n",
    "    result = service.spreadsheets().values().update(spreadsheetId=spreadsheet_id, range=rangeName,\n",
    "                                                    valueInputOption=value_input_option, body=body).execute()\n",
    "\n",
    "    return result"
   ]
  },
  {
   "cell_type": "code",
   "execution_count": 17,
   "metadata": {},
   "outputs": [
    {
     "name": "stdout",
     "output_type": "stream",
     "text": [
      "Done\n"
     ]
    }
   ],
   "source": [
    "links = sheetPull()"
   ]
  },
  {
   "cell_type": "code",
   "execution_count": 19,
   "metadata": {},
   "outputs": [
    {
     "data": {
      "text/plain": [
       "[['http://www.baltimoreravens.com/news/article-1/More-Explosive-Matthew-Judon-Is-Becoming-a-Complete-Player/8f181c1f-5a8a-479d-a990-b47583c124bf'],\n",
       " ['http://www.baltimoreravens.com/news/article-1/Eisenberg-Injuries-Raise-Questions-But-Answers-Can-and-Do-Come-From-Anywhere-at-Any-Time/80579778-f0b6-4291-9d81-701f41cc90a5'],\n",
       " ['http://www.steelers.com/news/article-1/Faneca-passing-on-the-knowledge/edfd6b6d-66d3-4c92-aa9d-93b5198f88ea'],\n",
       " ['http://www.steelers.com/news/article-1/Navy-SEALs-discipline-inspires-Fort/8838b7e8-70a3-48e7-b908-54bcfd6f731a'],\n",
       " ['http://www.bengals.com/news/article-1/Bengals-get-edgy/ea77a258-aafd-4521-99e8-6dd8bf6959bb'],\n",
       " ['http://www.bengals.com/news/article-1/Mixon-Bengals-hit-ground-running-/5ace91e4-b957-4aeb-a359-9cdea27789ff'],\n",
       " ['http://www.clevelandbrowns.com/news/article-5/Cleveland-Browns-First-and-Ten-Coin-Toss-Captain-August-10-2017/e54d53cb-2836-4d7d-bd82-26d86c5e7169'],\n",
       " ['http://www.clevelandbrowns.com/news/article-5/Gregg-Williams-says-teammates-played-big-part-in-Myles-Garrett’s-rise-to-1st-team-/318f6ab2-7d67-40d3-bd8b-47b2a86caf06'],\n",
       " [],\n",
       " ['http://www.vikings.com/news/article-1/Presser-Points-Zimmer-Looking-Forward-to-In-Season-Atmosphere-in-Seattle-/2d6c7371-e00a-402d-aa4c-f5517684f057'],\n",
       " ['http://www.vikings.com/news/article-1/Horace-Richardson-Brings-Pressure-From-New-Position-/89100d1f-29bd-4c80-bac5-100e9739d817'],\n",
       " [],\n",
       " [],\n",
       " ['http://www.detroitlions.com/news/daily-drive/article-1/THE-DAILY-DRIVE-Beast-Spence-can-now-be-Lions-top-interior-reinforcement/b2443a32-d1ae-4adf-852e-c108a87890b9'],\n",
       " ['http://www.detroitlions.com/news/lions-insider/article-1/Injuries-along-d-line-could-mean-increased-role-for-Zettel/513e14ca-84f4-44be-9b15-8cf02e8113c7'],\n",
       " ['http://www.packers.com/news-and-events/article-press-release/article-1/Packers-Hall-of-Fame-offering-more-guided-tours/af5c97cd-07fe-4730-8d33-bebc7781542b'],\n",
       " ['http://www.packers.com/news-and-events/article-player-feature/article-1/Joe-Callahan-back-in-his-comfort-zone-with-Packers/a5cc491f-d570-4286-af61-85076f6c47f3'],\n",
       " [],\n",
       " ['http://www.colts.com/news/article-1/Letters-To-Peyton---Show-Your-Appreciation-for-18/00937aa7-b18c-4a60-8d6e-601a53c38dc7'],\n",
       " ['http://www.colts.com/news/article-1/Practice-12-Training-Camp-Notebook-Several-Make-Their-Return-Green-To-Corner/a4ea546f-c731-4a87-a0d6-1a360dc9c6a2'],\n",
       " ['http://www.titansonline.com/news/article-4/EA-Sports-Releases-Titans-Player-Ratings-for-Madden-18/8c1d0d32-48e6-4660-9ba8-969a8bc71d23'],\n",
       " ['http://www.titansonline.com/news/article-4/NT-Antwaun-Woods-Standing-Out-in-Middle-of-Titans-D-Line/8428ed52-9948-4e96-9b33-a4902b9321be'],\n",
       " ['http://www.jaguars.com/news/article-JaguarsNews/Ten-things-Buccaneers-at-Jaguars/0d916c6e-93fd-4710-ada6-e63f393d758e'],\n",
       " ['http://www.jaguars.com/news/article-JaguarsNews/Game-Day-Fan-Information/dcf5f5e4-9d95-4dd2-877f-f2d64da117f6'],\n",
       " ['http://www.houstontexans.com/news/article-2/Texans-have-productive-day-with-Patriots/58246e00-02cd-4717-845c-b5cbbe202288'],\n",
       " ['http://www.houstontexans.com/news/article-2/25-observations-Texans-Patriots-joint-practice/05dd40b1-393f-42dd-af91-bff96dca0a80'],\n",
       " [],\n",
       " ['http://www.atlantafalcons.com/news/training-camp/article-1/WATCH-Falcons-cornerback-Robert-Alford-picks-off-Matt-Ryan/a7a31a9a-f27f-4f97-b320-7f58d826b09e'],\n",
       " ['http://www.atlantafalcons.com/news/blog/article-1/Falcons’-Dan-Quinn-‘hopeful’-Takk-McKinley-will-get-a-shot-to-play-against-Steelers/d0c42630-743e-472c-9699-8831629836bf'],\n",
       " ['http://www.neworleanssaints.com/news-and-events/article-1/WATCH-LIVE-Sean-Payton-Players-Post-Training-Camp-Practice-Availability/81ca20e3-7799-42f1-bc20-06bab27e8fee'],\n",
       " ['http://www.neworleanssaints.com/news-and-events/article-1/Five-things-to-know-about-the-Saints-on-Wednesday-August-16/047f1dfc-b1cc-4120-a5cc-b02eed5a009f'],\n",
       " ['http://www.buccaneers.com/news/article-1/5-Standouts-from-Training-Camp-August-15/cacc2b0c-effe-42cb-82f7-e647cc883a63'],\n",
       " ['http://www.buccaneers.com/news/article-1/3-Players-to-Watch-at-Training-Camp-August-15/aaa06603-c9d8-4517-bcb6-876744775c82'],\n",
       " ['http://www.panthers.com/news/article-2/Panthers-sign-Brian-Folkerts-waive-Tyrus-Thompson/77ad0b75-c820-4fc3-9cb0-0fefe1139177'],\n",
       " ['http://www.panthers.com/news/article-2/Panthers-Training-Camp-Observations-Day-14/36f65dc4-bbdd-4804-8dc3-7386dde17d2e'],\n",
       " [],\n",
       " ['http://www.patriots.com/news/2017/08/15/connections-patriots-texans'],\n",
       " ['http://www.patriots.com/news/2017/08/15/game-preview-patriots-texans'],\n",
       " ['http://www.newyorkjets.com/news/article-7/Jets-Claim-DB-Therezie-Waive-FB-Brown/1dff67c7-2853-4810-a0e8-c8cd9454f267'],\n",
       " ['http://www.newyorkjets.com/news/article-7/Day-After-More-on-the-Jets-Pass-Rush/e089d018-33f8-4472-8673-e067a102c26a'],\n",
       " ['http://www.buffalobills.com/news/article-1/Safety-and-security-information-for-Guns-N-Roses-concert/5513e1ec-e422-4786-b260-9a55ec127664'],\n",
       " ['http://www.buffalobills.com/news/article-1/2017-Bills-Training-Camp-Awards/71bf91e1-4e50-4dab-9a62-1bf0906f2e9a'],\n",
       " ['http://www.miamidolphins.com/news/article-1/DAILY-CLIPS-Top-Headlines-On-August-15-2017/1dca4361-1dbb-4203-9acd-72d5b50eafb0'],\n",
       " ['http://www.miamidolphins.com/news/article-4/AC-in-the-AM-10-Questions-With-Mike-Hull/1ee96163-3dd2-4898-94b7-f31d3bd1d236'],\n",
       " [],\n",
       " ['http://www.redskins.com/news/blog/article-1/Redskins-Linebacker-Nico-Marley-Named-To-PFFs-Preseason-Week-1-Team-Of-The-Week/d2fc55c1-e794-4df1-b751-32c2571e6545'],\n",
       " ['http://www.redskins.com/news/article-1/PHOTOS-Redskins-Close-Out-2017-SkinsCamp/cec47766-209d-406b-9e87-43ac6d7b8279'],\n",
       " ['http://www.giants.com/news-and-blogs/article-1/Giants-sign-WR-Andrew-Turzilli-and-LB-Chris-Casher/ddfcc723-0efb-4266-be45-2e9f600a9b82'],\n",
       " ['http://www.giants.com/news-and-blogs/article-1/Cover-3-Takeaways-from-Preseason-opener/06422384-d570-4ec8-98a2-73fa8a474375'],\n",
       " ['http://www.philadelphiaeagles.com/news/article-1/Corey-Graham-Has-Defense-Down-Pat/7c7e5b40-3f0f-4a17-9701-004a98d5dace'],\n",
       " ['http://www.philadelphiaeagles.com/news/article-1/DT-Elijah-Qualls-Looks-For-Next-Step/2fb587e6-53a7-4878-ba8d-4d65364155f1'],\n",
       " ['http://www.dallascowboys.com/news/2017/08/15/ezekiel-elliott-nflpa-officially-file-appeal-leagues-6-game-suspension'],\n",
       " ['http://www.dallascowboys.com/news/2017/08/15/inaugural-jason-witten-collegiate-man-year-award-begins-season'],\n",
       " [],\n",
       " ['http://www.raiders.com/news/article-1/Head-Coach-Jack-Del-Rio-The-Guys-Came-Back-Ready-To-Work/5abfb2ae-ba33-4e3e-80a1-dc0f0b81ef50'],\n",
       " ['http://www.raiders.com/news/article-1/Bridgestone-Performance-Moment-Of-The-Week-Preseason-Week-1/2c94a355-b9e2-4af1-beb2-217550479274'],\n",
       " ['http://www.denverbroncos.com/news-and-blogs/article-broncosbriefly/Broncos-Briefly-Wednesday-Aug-16-2017/509b1f2b-04d8-4a60-a6a0-34187772b3ca'],\n",
       " ['http://www.denverbroncos.com/news-and-blogs/article-squeeze/The-Squeeze-Ed-Sheeran-rocks-Mile-High/6c076765-b440-4ef5-8da6-64f9bf099675'],\n",
       " ['http://www.kcchiefs.com/news/article-2/Latest-NFL-Power-Rankings-Chiefs-Remain-in-Top-10/54a9d8e7-75cb-42d7-928d-5301083dc53a'],\n",
       " ['http://www.kcchiefs.com/news/article-2/Chiefs-RBs-Coach-Eric-Bieniemy-“This-is-Probably-My-Most-Talented-Group”--/8b7857a5-909f-4b97-9d6c-4c34f4d06e33'],\n",
       " [],\n",
       " [],\n",
       " [],\n",
       " ['http://www.seahawks.com/news/2017/08/15/pete-carroll-and-doug-baldwin-express-support-michael-bennett'],\n",
       " ['http://www.seahawks.com/news/2017/08/15/doug-baldwin-among-players-returning-practice-day-11-seahawks-training-camp'],\n",
       " ['http://www.49ers.com/news/article-2/Three-49ers-Named-to-Pro-Football-Focus-Team-of-the-Week/710c3c77-3ef8-40a7-84f2-806190b3e8d3'],\n",
       " ['http://www.49ers.com/news/ninerfeed/article-2/8-Observations-from-49ers-Training-Camp-Aug-14/62848666-c1d9-4500-ae8b-52fdf5a0077f'],\n",
       " ['http://www.azcardinals.com/news-and-events/article-2/Tyvon-Branch-Tracking-Down-Praise/12af27b6-877d-4de6-9c72-21e7e7116618'],\n",
       " ['http://www.azcardinals.com/news-and-events/article-2/Jaron-Brown-Emerges-As-Needed-Receiver/6e94484f-9c8b-4d7b-9fb1-f57c0686cd4e'],\n",
       " ['http://www.therams.com/news-and-events/article-1/Les-Snead-Appears-on-ESPN-LA-710/aa00fe37-9ea4-4a84-90f0-61f16a076aa6'],\n",
       " ['http://www.therams.com/news-and-events/article-1/Training-Camp-Report-Everything-You-Need-to-Know-From-Day-13/13d24d04-4b1d-45de-ada7-798ba1f09cba']]"
      ]
     },
     "execution_count": 19,
     "metadata": {},
     "output_type": "execute_result"
    }
   ],
   "source": [
    "links\n"
   ]
  },
  {
   "cell_type": "code",
   "execution_count": 18,
   "metadata": {},
   "outputs": [
    {
     "data": {
      "text/plain": [
       "71"
      ]
     },
     "execution_count": 18,
     "metadata": {},
     "output_type": "execute_result"
    }
   ],
   "source": [
    "len(links)"
   ]
  },
  {
   "cell_type": "code",
   "execution_count": 16,
   "metadata": {},
   "outputs": [],
   "source": [
    "r = writeTestResultRow(0, \"NO\", \"YES\")"
   ]
  },
  {
   "cell_type": "code",
   "execution_count": 14,
   "metadata": {},
   "outputs": [
    {
     "data": {
      "text/plain": [
       "{'spreadsheetId': '19qcwtytSVr80b4fxHBdJspdc1LW9IXMZIQJkldXmg_M',\n",
       " 'updatedCells': 2,\n",
       " 'updatedColumns': 2,\n",
       " 'updatedRange': 'Sheet1!C5:D5',\n",
       " 'updatedRows': 1}"
      ]
     },
     "execution_count": 14,
     "metadata": {},
     "output_type": "execute_result"
    }
   ],
   "source": [
    "r"
   ]
  },
  {
   "cell_type": "code",
   "execution_count": 24,
   "metadata": {},
   "outputs": [],
   "source": [
    "def runLink(linkURL):\n",
    "    article = iq.getArticle(linkURL)\n",
    "\n",
    "    paneParser = ap.paneContentParser()\n",
    "    paneParser.feed(article)\n",
    "\n",
    "    articleParser = ap.articleContentParser()\n",
    "    articleParser.feed(article)\n",
    "    \n",
    "    return len(articleParser.getContent()), len(paneParser.getContent())"
   ]
  },
  {
   "cell_type": "code",
   "execution_count": 25,
   "metadata": {},
   "outputs": [
    {
     "name": "stdout",
     "output_type": "stream",
     "text": [
      "PANE:    Scripts 21     Detected Posts 0\n",
      "ContentOn\n",
      "ContentOff\n",
      "ARTICLE: Scripts 21     Detected Posts 0\n"
     ]
    },
    {
     "data": {
      "text/plain": [
       "(4947, 0)"
      ]
     },
     "execution_count": 25,
     "metadata": {},
     "output_type": "execute_result"
    }
   ],
   "source": [
    "runLink('http://www.packers.com/news-and-events/article-player-feature/article-1/Joe-Callahan-back-in-his-comfort-zone-with-Packers/a5cc491f-d570-4286-af61-85076f6c47f3')"
   ]
  },
  {
   "cell_type": "code",
   "execution_count": 27,
   "metadata": {
    "collapsed": true
   },
   "outputs": [],
   "source": [
    "def qualifyParse(count):\n",
    "    if count:\n",
    "        return \"YES\"\n",
    "    else:\n",
    "        return \"NO\"\n",
    "        "
   ]
  },
  {
   "cell_type": "code",
   "execution_count": 32,
   "metadata": {},
   "outputs": [
    {
     "name": "stdout",
     "output_type": "stream",
     "text": [
      "PANE:    Scripts 25     Detected Posts 0\n",
      "ContentOn\n",
      "ContentOff\n",
      "ARTICLE: Scripts 25     Detected Posts 0\n",
      "PANE:    Scripts 26     Detected Posts 1\n",
      "ContentOn\n",
      "ContentOff\n",
      "ARTICLE: Scripts 26     Detected Posts 1\n"
     ]
    }
   ],
   "source": [
    "# Last two row of test are completed here, for full list remove the first argument to the range(...) call on the next line\n",
    "for row in range(len(links) - 2,len(links)):\n",
    "    link = links[row]\n",
    "    if link:\n",
    "        link = link[0]\n",
    "        counts = runLink(link)\n",
    "        r = writeTestResultRow(row, qualifyParse(counts[0]), qualifyParse(counts[1]))\n",
    "    "
   ]
  },
  {
   "cell_type": "code",
   "execution_count": 29,
   "metadata": {},
   "outputs": [
    {
     "data": {
      "text/plain": [
       "'YES'"
      ]
     },
     "execution_count": 29,
     "metadata": {},
     "output_type": "execute_result"
    }
   ],
   "source": [
    "qualifyParse(1)"
   ]
  },
  {
   "cell_type": "code",
   "execution_count": null,
   "metadata": {
    "collapsed": true
   },
   "outputs": [],
   "source": []
  }
 ],
 "metadata": {
  "kernelspec": {
   "display_name": "Python 3",
   "language": "python",
   "name": "python3"
  },
  "language_info": {
   "codemirror_mode": {
    "name": "ipython",
    "version": 3
   },
   "file_extension": ".py",
   "mimetype": "text/x-python",
   "name": "python",
   "nbconvert_exporter": "python",
   "pygments_lexer": "ipython3",
   "version": "3.6.1"
  }
 },
 "nbformat": 4,
 "nbformat_minor": 2
}
